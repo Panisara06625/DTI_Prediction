{
 "cells": [
  {
   "cell_type": "code",
   "execution_count": 1,
   "id": "a8ea893f",
   "metadata": {},
   "outputs": [
    {
     "name": "stdout",
     "output_type": "stream",
     "text": [
      "Requirement already satisfied: rdkit in c:\\users\\nongnam\\documents\\ai_builder\\.venv\\lib\\site-packages (2024.9.6)\n",
      "Requirement already satisfied: biopython in c:\\users\\nongnam\\documents\\ai_builder\\.venv\\lib\\site-packages (1.85)\n",
      "Requirement already satisfied: numpy in c:\\users\\nongnam\\documents\\ai_builder\\.venv\\lib\\site-packages (from rdkit) (2.1.3)\n",
      "Requirement already satisfied: Pillow in c:\\users\\nongnam\\documents\\ai_builder\\.venv\\lib\\site-packages (from rdkit) (11.2.1)\n",
      "Note: you may need to restart the kernel to use updated packages.\n"
     ]
    },
    {
     "name": "stderr",
     "output_type": "stream",
     "text": [
      "\n",
      "[notice] A new release of pip is available: 23.2.1 -> 25.1\n",
      "[notice] To update, run: python.exe -m pip install --upgrade pip\n"
     ]
    }
   ],
   "source": [
    "pip install rdkit biopython"
   ]
  },
  {
   "cell_type": "code",
   "execution_count": 2,
   "id": "e71efa3b",
   "metadata": {},
   "outputs": [],
   "source": [
    "import pandas as pd\n",
    "from rdkit import Chem\n",
    "from rdkit.Chem import Descriptors\n",
    "from Bio.SeqUtils.ProtParam import ProteinAnalysis\n",
    "import numpy as np"
   ]
  },
  {
   "cell_type": "code",
   "execution_count": 3,
   "id": "dcf53b2b",
   "metadata": {},
   "outputs": [],
   "source": [
    "# Load your dataset\n",
    "df = pd.read_csv('no_split_kd.csv')  # adjust filename if needed"
   ]
  },
  {
   "cell_type": "code",
   "execution_count": 4,
   "id": "e866ff67",
   "metadata": {},
   "outputs": [
    {
     "data": {
      "text/plain": [
       "SMILES             0\n",
       "target_sequence    0\n",
       "Kd                 0\n",
       "dtype: int64"
      ]
     },
     "execution_count": 4,
     "metadata": {},
     "output_type": "execute_result"
    }
   ],
   "source": [
    "df.isna().sum()"
   ]
  },
  {
   "cell_type": "code",
   "execution_count": 5,
   "id": "313b9e7c",
   "metadata": {},
   "outputs": [
    {
     "name": "stderr",
     "output_type": "stream",
     "text": [
      "[18:07:25] Explicit valence for atom # 22 N, 4, is greater than permitted\n",
      "[18:07:25] Explicit valence for atom # 22 N, 4, is greater than permitted\n",
      "[18:07:27] Explicit valence for atom # 22 N, 4, is greater than permitted\n",
      "[18:07:27] Explicit valence for atom # 22 N, 4, is greater than permitted\n",
      "[18:07:27] Explicit valence for atom # 22 N, 4, is greater than permitted\n",
      "[18:07:27] Explicit valence for atom # 22 N, 4, is greater than permitted\n",
      "[18:08:57] Can't kekulize mol.  Unkekulized atoms: 16 17 18 19 20 21 22 23 25\n"
     ]
    }
   ],
   "source": [
    "# --- Molecular descriptors from SMILES ---\n",
    "def compute_molecular_descriptors(smiles):\n",
    "    mol = Chem.MolFromSmiles(smiles)\n",
    "    if mol is None:\n",
    "        return None\n",
    "    return [\n",
    "        Descriptors.MolWt(mol),\n",
    "        Descriptors.MolLogP(mol),\n",
    "        Descriptors.NumRotatableBonds(mol),\n",
    "        Descriptors.NumHDonors(mol),\n",
    "        Descriptors.NumHAcceptors(mol)\n",
    "    ]\n",
    "\n",
    "mol_desc = df['SMILES'].apply(compute_molecular_descriptors)\n",
    "mol_desc = mol_desc.dropna()\n",
    "mol_desc_df = pd.DataFrame(mol_desc.tolist(), columns=[\n",
    "    'MolWt', 'LogP', 'RotatableBonds', 'HDonors', 'HAcceptors'\n",
    "])"
   ]
  },
  {
   "cell_type": "code",
   "execution_count": 6,
   "id": "218ede2b",
   "metadata": {},
   "outputs": [],
   "source": [
    "# --- Sequence descriptors from target protein ---\n",
    "def compute_protein_descriptors(seq):\n",
    "    try:\n",
    "        analyzed_seq = ProteinAnalysis(seq)\n",
    "        return [\n",
    "            analyzed_seq.molecular_weight(),\n",
    "            analyzed_seq.aromaticity(),\n",
    "            analyzed_seq.instability_index(),\n",
    "            analyzed_seq.gravy()\n",
    "        ]\n",
    "    except:\n",
    "        return None\n",
    "\n",
    "prot_desc = df.loc[mol_desc.index, 'target_sequence'].apply(compute_protein_descriptors)\n",
    "prot_desc = prot_desc.dropna()\n",
    "prot_desc_df = pd.DataFrame(prot_desc.tolist(), columns=[\n",
    "    'Prot_MW', 'Aromaticity', 'Instability', 'Hydropathy'\n",
    "])"
   ]
  },
  {
   "cell_type": "code",
   "execution_count": 7,
   "id": "ad54a093",
   "metadata": {},
   "outputs": [],
   "source": [
    "# --- Final dataset ---\n",
    "kd_filtered = df.loc[prot_desc.index, 'Kd'].reset_index(drop=True)\n",
    "final_df = pd.concat([mol_desc_df.reset_index(drop=True), prot_desc_df.reset_index(drop=True), kd_filtered], axis=1)\n",
    "final_df.columns = list(final_df.columns[:-1]) + ['Kd']"
   ]
  },
  {
   "cell_type": "code",
   "execution_count": 8,
   "id": "bd24f469",
   "metadata": {},
   "outputs": [
    {
     "data": {
      "text/plain": [
       "MolWt              0\n",
       "LogP               0\n",
       "RotatableBonds     0\n",
       "HDonors            0\n",
       "HAcceptors         0\n",
       "Prot_MW           25\n",
       "Aromaticity       25\n",
       "Instability       25\n",
       "Hydropathy        25\n",
       "Kd                25\n",
       "dtype: int64"
      ]
     },
     "execution_count": 8,
     "metadata": {},
     "output_type": "execute_result"
    }
   ],
   "source": [
    "final_df.isna().sum()"
   ]
  },
  {
   "cell_type": "code",
   "execution_count": 14,
   "id": "b91d0360",
   "metadata": {},
   "outputs": [],
   "source": [
    "final_df = final_df.dropna()"
   ]
  },
  {
   "cell_type": "code",
   "execution_count": 15,
   "id": "47ab87fb",
   "metadata": {},
   "outputs": [
    {
     "data": {
      "text/plain": [
       "61092"
      ]
     },
     "execution_count": 15,
     "metadata": {},
     "output_type": "execute_result"
    }
   ],
   "source": [
    "len(final_df)"
   ]
  },
  {
   "cell_type": "code",
   "execution_count": 17,
   "id": "0c7f708b",
   "metadata": {},
   "outputs": [],
   "source": [
    "# Save to CSV\n",
    "final_df.to_csv(\"descriptor_based_dataset.csv\", index=False)"
   ]
  }
 ],
 "metadata": {
  "kernelspec": {
   "display_name": ".venv",
   "language": "python",
   "name": "python3"
  },
  "language_info": {
   "codemirror_mode": {
    "name": "ipython",
    "version": 3
   },
   "file_extension": ".py",
   "mimetype": "text/x-python",
   "name": "python",
   "nbconvert_exporter": "python",
   "pygments_lexer": "ipython3",
   "version": "3.11.7"
  }
 },
 "nbformat": 4,
 "nbformat_minor": 5
}
