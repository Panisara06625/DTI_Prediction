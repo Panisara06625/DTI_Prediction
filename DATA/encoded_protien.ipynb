{
 "cells": [
  {
   "cell_type": "markdown",
   "id": "11d777ea",
   "metadata": {},
   "source": [
    "This is for Deployment"
   ]
  },
  {
   "cell_type": "code",
   "execution_count": 1,
   "id": "d4f44dd6",
   "metadata": {},
   "outputs": [],
   "source": [
    "import pandas as pd\n",
    "import numpy as np\n",
    "import requests\n",
    "from concurrent.futures import ThreadPoolExecutor, as_completed\n",
    "from tqdm import tqdm"
   ]
  },
  {
   "cell_type": "code",
   "execution_count": 2,
   "id": "7432aa5d",
   "metadata": {},
   "outputs": [],
   "source": [
    "df = pd.read_csv('Target_ID/no_split.csv')"
   ]
  },
  {
   "cell_type": "code",
   "execution_count": 3,
   "id": "ef03d579",
   "metadata": {},
   "outputs": [
    {
     "data": {
      "text/html": [
       "<div>\n",
       "<style scoped>\n",
       "    .dataframe tbody tr th:only-of-type {\n",
       "        vertical-align: middle;\n",
       "    }\n",
       "\n",
       "    .dataframe tbody tr th {\n",
       "        vertical-align: top;\n",
       "    }\n",
       "\n",
       "    .dataframe thead th {\n",
       "        text-align: right;\n",
       "    }\n",
       "</style>\n",
       "<table border=\"1\" class=\"dataframe\">\n",
       "  <thead>\n",
       "    <tr style=\"text-align: right;\">\n",
       "      <th></th>\n",
       "      <th>SMILES</th>\n",
       "      <th>target_id</th>\n",
       "      <th>Kd</th>\n",
       "    </tr>\n",
       "  </thead>\n",
       "  <tbody>\n",
       "    <tr>\n",
       "      <th>0</th>\n",
       "      <td>BrCCOc1ccc2nc3ccc(=O)cc3oc2c1</td>\n",
       "      <td>P05067</td>\n",
       "      <td>6.032920</td>\n",
       "    </tr>\n",
       "    <tr>\n",
       "      <th>1</th>\n",
       "      <td>Br[Se]c1ccccc1</td>\n",
       "      <td>O75936</td>\n",
       "      <td>4.958607</td>\n",
       "    </tr>\n",
       "    <tr>\n",
       "      <th>2</th>\n",
       "      <td>Brc1[nH]c2cccc3[C@H]4C[C@H](CN[C@@H]4Cc1c23)C(...</td>\n",
       "      <td>P28646</td>\n",
       "      <td>6.769551</td>\n",
       "    </tr>\n",
       "    <tr>\n",
       "      <th>3</th>\n",
       "      <td>Brc1[nH]c2cccc3[C@H]4C[C@H](CN[C@@H]4Cc1c23)C(...</td>\n",
       "      <td>P30680</td>\n",
       "      <td>5.100015</td>\n",
       "    </tr>\n",
       "    <tr>\n",
       "      <th>4</th>\n",
       "      <td>Brc1c(Br)c(Br)c2[nH]cnc2c1Br</td>\n",
       "      <td>P16083</td>\n",
       "      <td>7.742321</td>\n",
       "    </tr>\n",
       "  </tbody>\n",
       "</table>\n",
       "</div>"
      ],
      "text/plain": [
       "                                              SMILES target_id        Kd\n",
       "0                      BrCCOc1ccc2nc3ccc(=O)cc3oc2c1    P05067  6.032920\n",
       "1                                     Br[Se]c1ccccc1    O75936  4.958607\n",
       "2  Brc1[nH]c2cccc3[C@H]4C[C@H](CN[C@@H]4Cc1c23)C(...    P28646  6.769551\n",
       "3  Brc1[nH]c2cccc3[C@H]4C[C@H](CN[C@@H]4Cc1c23)C(...    P30680  5.100015\n",
       "4                       Brc1c(Br)c(Br)c2[nH]cnc2c1Br    P16083  7.742321"
      ]
     },
     "execution_count": 3,
     "metadata": {},
     "output_type": "execute_result"
    }
   ],
   "source": [
    "df.head()"
   ]
  },
  {
   "cell_type": "code",
   "execution_count": 4,
   "id": "a6dc10dd",
   "metadata": {},
   "outputs": [],
   "source": [
    "df = df.drop(columns=['SMILES', 'Kd'])"
   ]
  },
  {
   "cell_type": "code",
   "execution_count": 5,
   "id": "b46d784c",
   "metadata": {},
   "outputs": [
    {
     "data": {
      "text/plain": [
       "61256"
      ]
     },
     "execution_count": 5,
     "metadata": {},
     "output_type": "execute_result"
    }
   ],
   "source": [
    "len(df)"
   ]
  },
  {
   "cell_type": "code",
   "execution_count": 6,
   "id": "028967fd",
   "metadata": {},
   "outputs": [
    {
     "data": {
      "text/html": [
       "<div>\n",
       "<style scoped>\n",
       "    .dataframe tbody tr th:only-of-type {\n",
       "        vertical-align: middle;\n",
       "    }\n",
       "\n",
       "    .dataframe tbody tr th {\n",
       "        vertical-align: top;\n",
       "    }\n",
       "\n",
       "    .dataframe thead th {\n",
       "        text-align: right;\n",
       "    }\n",
       "</style>\n",
       "<table border=\"1\" class=\"dataframe\">\n",
       "  <thead>\n",
       "    <tr style=\"text-align: right;\">\n",
       "      <th></th>\n",
       "      <th>target_id</th>\n",
       "    </tr>\n",
       "  </thead>\n",
       "  <tbody>\n",
       "    <tr>\n",
       "      <th>0</th>\n",
       "      <td>P05067</td>\n",
       "    </tr>\n",
       "    <tr>\n",
       "      <th>1</th>\n",
       "      <td>O75936</td>\n",
       "    </tr>\n",
       "    <tr>\n",
       "      <th>2</th>\n",
       "      <td>P28646</td>\n",
       "    </tr>\n",
       "    <tr>\n",
       "      <th>3</th>\n",
       "      <td>P30680</td>\n",
       "    </tr>\n",
       "    <tr>\n",
       "      <th>4</th>\n",
       "      <td>P16083</td>\n",
       "    </tr>\n",
       "  </tbody>\n",
       "</table>\n",
       "</div>"
      ],
      "text/plain": [
       "  target_id\n",
       "0    P05067\n",
       "1    O75936\n",
       "2    P28646\n",
       "3    P30680\n",
       "4    P16083"
      ]
     },
     "execution_count": 6,
     "metadata": {},
     "output_type": "execute_result"
    }
   ],
   "source": [
    "df.head()"
   ]
  },
  {
   "cell_type": "code",
   "execution_count": 12,
   "id": "9bb9eed7",
   "metadata": {},
   "outputs": [],
   "source": [
    "df = df.drop_duplicates(subset='target_id')"
   ]
  },
  {
   "cell_type": "code",
   "execution_count": 13,
   "id": "48926426",
   "metadata": {},
   "outputs": [
    {
     "data": {
      "text/plain": [
       "2809"
      ]
     },
     "execution_count": 13,
     "metadata": {},
     "output_type": "execute_result"
    }
   ],
   "source": [
    "len(df)"
   ]
  },
  {
   "cell_type": "code",
   "execution_count": null,
   "id": "3f70babc",
   "metadata": {},
   "outputs": [
    {
     "name": "stdout",
     "output_type": "stream",
     "text": [
      "Filtered rows: 1321\n"
     ]
    }
   ],
   "source": [
    "# Filter for Homo sapiens species (case-insensitive)\n",
    "df_human = df[df['species_name'].str.lower() == 'homo sapiens']\n",
    "\n",
    "print(f\"Filtered rows: {len(df_human)}\")\n"
   ]
  },
  {
   "cell_type": "code",
   "execution_count": 28,
   "id": "fa73726a",
   "metadata": {},
   "outputs": [
    {
     "data": {
      "text/html": [
       "<div>\n",
       "<style scoped>\n",
       "    .dataframe tbody tr th:only-of-type {\n",
       "        vertical-align: middle;\n",
       "    }\n",
       "\n",
       "    .dataframe tbody tr th {\n",
       "        vertical-align: top;\n",
       "    }\n",
       "\n",
       "    .dataframe thead th {\n",
       "        text-align: right;\n",
       "    }\n",
       "</style>\n",
       "<table border=\"1\" class=\"dataframe\">\n",
       "  <thead>\n",
       "    <tr style=\"text-align: right;\">\n",
       "      <th></th>\n",
       "      <th>target_id</th>\n",
       "    </tr>\n",
       "  </thead>\n",
       "  <tbody>\n",
       "    <tr>\n",
       "      <th>0</th>\n",
       "      <td>P05067</td>\n",
       "    </tr>\n",
       "    <tr>\n",
       "      <th>1</th>\n",
       "      <td>O75936</td>\n",
       "    </tr>\n",
       "    <tr>\n",
       "      <th>4</th>\n",
       "      <td>P16083</td>\n",
       "    </tr>\n",
       "    <tr>\n",
       "      <th>6</th>\n",
       "      <td>P14902</td>\n",
       "    </tr>\n",
       "    <tr>\n",
       "      <th>7</th>\n",
       "      <td>P28482</td>\n",
       "    </tr>\n",
       "  </tbody>\n",
       "</table>\n",
       "</div>"
      ],
      "text/plain": [
       "  target_id\n",
       "0    P05067\n",
       "1    O75936\n",
       "4    P16083\n",
       "6    P14902\n",
       "7    P28482"
      ]
     },
     "execution_count": 28,
     "metadata": {},
     "output_type": "execute_result"
    }
   ],
   "source": [
    "df.head()"
   ]
  },
  {
   "cell_type": "code",
   "execution_count": 29,
   "id": "52fe3b45",
   "metadata": {},
   "outputs": [
    {
     "name": "stderr",
     "output_type": "stream",
     "text": [
      "Fetching FASTA sequences: 100%|██████████| 1321/1321 [00:57<00:00, 23.15it/s]"
     ]
    },
    {
     "name": "stdout",
     "output_type": "stream",
     "text": [
      "  target_id                                    target_sequence\n",
      "0    P05067  MLPGLALLLLAAWTARALEVPTDGNAGLLAEPQIAMFCGRLNMHMN...\n",
      "1    O75936  MACTIQKAEALDGAHLMQILWYDEEESLYPAVWLRDNCPCSDCYLD...\n",
      "4    P16083  MAGKKVLIVYAHQEPKSFNGSLKNVAVDELSRQGCTVTVSDLYAMN...\n",
      "6    P14902  MAHAMENSWTISKEYHIDEEVGFALPNPQENLPDFYNDWMFIAKHL...\n",
      "7    P28482  MAAAAAAGAGPEMVRGQVFDVGPRYTNLSYIGEGAYGMVCSAYDNV...\n"
     ]
    },
    {
     "name": "stderr",
     "output_type": "stream",
     "text": [
      "\n"
     ]
    }
   ],
   "source": [
    "# Function to fetch FASTA from UniProt ID\n",
    "def fetch_fasta(uniprot_id):\n",
    "    if pd.isna(uniprot_id):\n",
    "        return None\n",
    "    url = f\"https://rest.uniprot.org/uniprotkb/{uniprot_id}.fasta\"\n",
    "    try:\n",
    "        response = requests.get(url, timeout=5)\n",
    "        if response.status_code == 200:\n",
    "            fasta = response.text\n",
    "            # Remove header (first line) and join sequence lines\n",
    "            sequence = ''.join(fasta.split('\\n')[1:]).strip()\n",
    "            return sequence\n",
    "    except:\n",
    "        return None\n",
    "    return None\n",
    "\n",
    "# Function to fetch all FASTA sequences in parallel\n",
    "def fetch_fasta_parallel(df, id_column='target_id', output_column='target_sequence', max_workers=20):\n",
    "    df[output_column] = None  # Create empty column\n",
    "\n",
    "    with ThreadPoolExecutor(max_workers=max_workers) as executor:\n",
    "        futures = {\n",
    "            executor.submit(fetch_fasta, row[id_column]): idx\n",
    "            for idx, row in df.iterrows()\n",
    "        }\n",
    "\n",
    "        for future in tqdm(as_completed(futures), total=len(futures), desc=\"Fetching FASTA sequences\"):\n",
    "            idx = futures[future]\n",
    "            try:\n",
    "                df.at[idx, output_column] = future.result()\n",
    "            except Exception as e:\n",
    "                df.at[idx, output_column] = None\n",
    "\n",
    "    return df\n",
    "\n",
    "# Run parallel FASTA fetching\n",
    "df = fetch_fasta_parallel(df, id_column='target_id', output_column='target_sequence', max_workers=20)\n",
    "\n",
    "# Show rows 0–50 (or first 5 rows if you prefer)\n",
    "print(df[['target_id', 'target_sequence']].head(5))"
   ]
  },
  {
   "cell_type": "code",
   "execution_count": null,
   "id": "05c8244b",
   "metadata": {},
   "outputs": [],
   "source": [
    "from Bio.SeqUtils.ProtParam import ProteinAnalysis\n",
    "import pandas as pd\n",
    "\n",
    "# Function to compute protein descriptors\n",
    "def compute_protein_descriptors(seq):\n",
    "    try:\n",
    "        analyzed_seq = ProteinAnalysis(seq)\n",
    "        return [\n",
    "            analyzed_seq.molecular_weight(),\n",
    "            analyzed_seq.aromaticity(),\n",
    "            analyzed_seq.instability_index(),\n",
    "            analyzed_seq.gravy(),\n",
    "            analyzed_seq.isoelectric_point()\n",
    "        ]\n",
    "    except:\n",
    "        return None\n",
    "\n",
    "# Example: assuming your DataFrame is df and sequence column is \"protein_sequence\"\n",
    "prot_desc = df['target_sequence'].apply(compute_protein_descriptors)\n",
    "prot_desc = prot_desc.dropna()  # remove failed ones\n",
    "prot_desc_df = pd.DataFrame(prot_desc.tolist(), columns=[\n",
    "    'Prot_MW', 'Aromaticity', 'Instability', 'Hydropathy', 'IsoelectricPoint'\n",
    "])\n"
   ]
  },
  {
   "cell_type": "code",
   "execution_count": null,
   "id": "933befa1",
   "metadata": {},
   "outputs": [],
   "source": [
    "df = df.loc[prot_desc.index].reset_index(drop=True)\n",
    "df = pd.concat([df.reset_index(drop=True), prot_desc_df.reset_index(drop=True)], axis=1)\n"
   ]
  },
  {
   "cell_type": "code",
   "execution_count": 30,
   "id": "11e61acf",
   "metadata": {},
   "outputs": [
    {
     "data": {
      "text/html": [
       "<div>\n",
       "<style scoped>\n",
       "    .dataframe tbody tr th:only-of-type {\n",
       "        vertical-align: middle;\n",
       "    }\n",
       "\n",
       "    .dataframe tbody tr th {\n",
       "        vertical-align: top;\n",
       "    }\n",
       "\n",
       "    .dataframe thead th {\n",
       "        text-align: right;\n",
       "    }\n",
       "</style>\n",
       "<table border=\"1\" class=\"dataframe\">\n",
       "  <thead>\n",
       "    <tr style=\"text-align: right;\">\n",
       "      <th></th>\n",
       "      <th>target_id</th>\n",
       "      <th>target_sequence</th>\n",
       "    </tr>\n",
       "  </thead>\n",
       "  <tbody>\n",
       "    <tr>\n",
       "      <th>0</th>\n",
       "      <td>P05067</td>\n",
       "      <td>MLPGLALLLLAAWTARALEVPTDGNAGLLAEPQIAMFCGRLNMHMN...</td>\n",
       "    </tr>\n",
       "    <tr>\n",
       "      <th>1</th>\n",
       "      <td>O75936</td>\n",
       "      <td>MACTIQKAEALDGAHLMQILWYDEEESLYPAVWLRDNCPCSDCYLD...</td>\n",
       "    </tr>\n",
       "    <tr>\n",
       "      <th>4</th>\n",
       "      <td>P16083</td>\n",
       "      <td>MAGKKVLIVYAHQEPKSFNGSLKNVAVDELSRQGCTVTVSDLYAMN...</td>\n",
       "    </tr>\n",
       "    <tr>\n",
       "      <th>6</th>\n",
       "      <td>P14902</td>\n",
       "      <td>MAHAMENSWTISKEYHIDEEVGFALPNPQENLPDFYNDWMFIAKHL...</td>\n",
       "    </tr>\n",
       "    <tr>\n",
       "      <th>7</th>\n",
       "      <td>P28482</td>\n",
       "      <td>MAAAAAAGAGPEMVRGQVFDVGPRYTNLSYIGEGAYGMVCSAYDNV...</td>\n",
       "    </tr>\n",
       "  </tbody>\n",
       "</table>\n",
       "</div>"
      ],
      "text/plain": [
       "  target_id                                    target_sequence\n",
       "0    P05067  MLPGLALLLLAAWTARALEVPTDGNAGLLAEPQIAMFCGRLNMHMN...\n",
       "1    O75936  MACTIQKAEALDGAHLMQILWYDEEESLYPAVWLRDNCPCSDCYLD...\n",
       "4    P16083  MAGKKVLIVYAHQEPKSFNGSLKNVAVDELSRQGCTVTVSDLYAMN...\n",
       "6    P14902  MAHAMENSWTISKEYHIDEEVGFALPNPQENLPDFYNDWMFIAKHL...\n",
       "7    P28482  MAAAAAAGAGPEMVRGQVFDVGPRYTNLSYIGEGAYGMVCSAYDNV..."
      ]
     },
     "execution_count": 30,
     "metadata": {},
     "output_type": "execute_result"
    }
   ],
   "source": [
    "df.head()"
   ]
  },
  {
   "cell_type": "code",
   "execution_count": 31,
   "id": "f03335cc",
   "metadata": {},
   "outputs": [
    {
     "data": {
      "text/plain": [
       "target_id          0\n",
       "target_sequence    0\n",
       "dtype: int64"
      ]
     },
     "execution_count": 31,
     "metadata": {},
     "output_type": "execute_result"
    }
   ],
   "source": [
    "df.isna().sum()"
   ]
  },
  {
   "cell_type": "code",
   "execution_count": 32,
   "id": "11ee873a",
   "metadata": {},
   "outputs": [],
   "source": [
    "df = df.dropna()"
   ]
  },
  {
   "cell_type": "code",
   "execution_count": 33,
   "id": "dd3aa441",
   "metadata": {},
   "outputs": [],
   "source": [
    "# 4. Encode protein sequences\n",
    "aa_list = 'ACDEFGHIKLMNPQRSTVWY'\n",
    "aa_to_int = {aa: i + 1 for i, aa in enumerate(aa_list)}\n",
    "\n",
    "def encode_protein(seq):\n",
    "    return [aa_to_int.get(aa, 0) for aa in seq]\n",
    "\n",
    "df['protein_encoded'] = df['target_sequence'].apply(encode_protein)"
   ]
  },
  {
   "cell_type": "code",
   "execution_count": 34,
   "id": "c04a9561",
   "metadata": {},
   "outputs": [
    {
     "data": {
      "text/html": [
       "<div>\n",
       "<style scoped>\n",
       "    .dataframe tbody tr th:only-of-type {\n",
       "        vertical-align: middle;\n",
       "    }\n",
       "\n",
       "    .dataframe tbody tr th {\n",
       "        vertical-align: top;\n",
       "    }\n",
       "\n",
       "    .dataframe thead th {\n",
       "        text-align: right;\n",
       "    }\n",
       "</style>\n",
       "<table border=\"1\" class=\"dataframe\">\n",
       "  <thead>\n",
       "    <tr style=\"text-align: right;\">\n",
       "      <th></th>\n",
       "      <th>target_id</th>\n",
       "      <th>target_sequence</th>\n",
       "      <th>protein_encoded</th>\n",
       "    </tr>\n",
       "  </thead>\n",
       "  <tbody>\n",
       "    <tr>\n",
       "      <th>0</th>\n",
       "      <td>P05067</td>\n",
       "      <td>MLPGLALLLLAAWTARALEVPTDGNAGLLAEPQIAMFCGRLNMHMN...</td>\n",
       "      <td>[11, 10, 13, 6, 10, 1, 10, 10, 10, 10, 1, 1, 1...</td>\n",
       "    </tr>\n",
       "    <tr>\n",
       "      <th>1</th>\n",
       "      <td>O75936</td>\n",
       "      <td>MACTIQKAEALDGAHLMQILWYDEEESLYPAVWLRDNCPCSDCYLD...</td>\n",
       "      <td>[11, 1, 2, 17, 8, 14, 9, 1, 4, 1, 10, 3, 6, 1,...</td>\n",
       "    </tr>\n",
       "    <tr>\n",
       "      <th>4</th>\n",
       "      <td>P16083</td>\n",
       "      <td>MAGKKVLIVYAHQEPKSFNGSLKNVAVDELSRQGCTVTVSDLYAMN...</td>\n",
       "      <td>[11, 1, 6, 9, 9, 18, 10, 8, 18, 20, 1, 7, 14, ...</td>\n",
       "    </tr>\n",
       "    <tr>\n",
       "      <th>6</th>\n",
       "      <td>P14902</td>\n",
       "      <td>MAHAMENSWTISKEYHIDEEVGFALPNPQENLPDFYNDWMFIAKHL...</td>\n",
       "      <td>[11, 1, 7, 1, 11, 4, 12, 16, 19, 17, 8, 16, 9,...</td>\n",
       "    </tr>\n",
       "    <tr>\n",
       "      <th>7</th>\n",
       "      <td>P28482</td>\n",
       "      <td>MAAAAAAGAGPEMVRGQVFDVGPRYTNLSYIGEGAYGMVCSAYDNV...</td>\n",
       "      <td>[11, 1, 1, 1, 1, 1, 1, 6, 1, 6, 13, 4, 11, 18,...</td>\n",
       "    </tr>\n",
       "  </tbody>\n",
       "</table>\n",
       "</div>"
      ],
      "text/plain": [
       "  target_id                                    target_sequence  \\\n",
       "0    P05067  MLPGLALLLLAAWTARALEVPTDGNAGLLAEPQIAMFCGRLNMHMN...   \n",
       "1    O75936  MACTIQKAEALDGAHLMQILWYDEEESLYPAVWLRDNCPCSDCYLD...   \n",
       "4    P16083  MAGKKVLIVYAHQEPKSFNGSLKNVAVDELSRQGCTVTVSDLYAMN...   \n",
       "6    P14902  MAHAMENSWTISKEYHIDEEVGFALPNPQENLPDFYNDWMFIAKHL...   \n",
       "7    P28482  MAAAAAAGAGPEMVRGQVFDVGPRYTNLSYIGEGAYGMVCSAYDNV...   \n",
       "\n",
       "                                     protein_encoded  \n",
       "0  [11, 10, 13, 6, 10, 1, 10, 10, 10, 10, 1, 1, 1...  \n",
       "1  [11, 1, 2, 17, 8, 14, 9, 1, 4, 1, 10, 3, 6, 1,...  \n",
       "4  [11, 1, 6, 9, 9, 18, 10, 8, 18, 20, 1, 7, 14, ...  \n",
       "6  [11, 1, 7, 1, 11, 4, 12, 16, 19, 17, 8, 16, 9,...  \n",
       "7  [11, 1, 1, 1, 1, 1, 1, 6, 1, 6, 13, 4, 11, 18,...  "
      ]
     },
     "execution_count": 34,
     "metadata": {},
     "output_type": "execute_result"
    }
   ],
   "source": [
    "df.head()"
   ]
  },
  {
   "cell_type": "code",
   "execution_count": null,
   "id": "6ae53dd6",
   "metadata": {},
   "outputs": [],
   "source": [
    "len(df)"
   ]
  },
  {
   "cell_type": "code",
   "execution_count": 35,
   "id": "0e8bd9db",
   "metadata": {},
   "outputs": [],
   "source": [
    "df.to_csv('encoded_protien.csv', index=False)"
   ]
  }
 ],
 "metadata": {
  "kernelspec": {
   "display_name": ".venv",
   "language": "python",
   "name": "python3"
  },
  "language_info": {
   "codemirror_mode": {
    "name": "ipython",
    "version": 3
   },
   "file_extension": ".py",
   "mimetype": "text/x-python",
   "name": "python",
   "nbconvert_exporter": "python",
   "pygments_lexer": "ipython3",
   "version": "3.11.7"
  }
 },
 "nbformat": 4,
 "nbformat_minor": 5
}
