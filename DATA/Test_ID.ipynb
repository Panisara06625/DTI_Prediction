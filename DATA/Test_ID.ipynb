{
 "cells": [
  {
   "cell_type": "code",
   "execution_count": null,
   "id": "c11ad616",
   "metadata": {},
   "outputs": [],
   "source": [
    "# For error analysis"
   ]
  },
  {
   "cell_type": "code",
   "execution_count": 1,
   "id": "0f8db32c",
   "metadata": {},
   "outputs": [],
   "source": [
    "import pandas as  pd"
   ]
  },
  {
   "cell_type": "code",
   "execution_count": 2,
   "id": "e3f3d204",
   "metadata": {},
   "outputs": [],
   "source": [
    "test_df = pd.read_csv(\"test_dataset.csv\")\n",
    "target_df = pd.read_csv(\"Target_ID/no_split.csv\")   "
   ]
  },
  {
   "cell_type": "code",
   "execution_count": 3,
   "id": "64d2e698",
   "metadata": {},
   "outputs": [
    {
     "data": {
      "text/html": [
       "<div>\n",
       "<style scoped>\n",
       "    .dataframe tbody tr th:only-of-type {\n",
       "        vertical-align: middle;\n",
       "    }\n",
       "\n",
       "    .dataframe tbody tr th {\n",
       "        vertical-align: top;\n",
       "    }\n",
       "\n",
       "    .dataframe thead th {\n",
       "        text-align: right;\n",
       "    }\n",
       "</style>\n",
       "<table border=\"1\" class=\"dataframe\">\n",
       "  <thead>\n",
       "    <tr style=\"text-align: right;\">\n",
       "      <th></th>\n",
       "      <th>SMILES</th>\n",
       "      <th>target_id</th>\n",
       "      <th>Kd</th>\n",
       "    </tr>\n",
       "  </thead>\n",
       "  <tbody>\n",
       "    <tr>\n",
       "      <th>0</th>\n",
       "      <td>BrCCOc1ccc2nc3ccc(=O)cc3oc2c1</td>\n",
       "      <td>P05067</td>\n",
       "      <td>6.032920</td>\n",
       "    </tr>\n",
       "    <tr>\n",
       "      <th>1</th>\n",
       "      <td>Br[Se]c1ccccc1</td>\n",
       "      <td>O75936</td>\n",
       "      <td>4.958607</td>\n",
       "    </tr>\n",
       "    <tr>\n",
       "      <th>2</th>\n",
       "      <td>Brc1[nH]c2cccc3[C@H]4C[C@H](CN[C@@H]4Cc1c23)C(...</td>\n",
       "      <td>P28646</td>\n",
       "      <td>6.769551</td>\n",
       "    </tr>\n",
       "    <tr>\n",
       "      <th>3</th>\n",
       "      <td>Brc1[nH]c2cccc3[C@H]4C[C@H](CN[C@@H]4Cc1c23)C(...</td>\n",
       "      <td>P30680</td>\n",
       "      <td>5.100015</td>\n",
       "    </tr>\n",
       "    <tr>\n",
       "      <th>4</th>\n",
       "      <td>Brc1c(Br)c(Br)c2[nH]cnc2c1Br</td>\n",
       "      <td>P16083</td>\n",
       "      <td>7.742321</td>\n",
       "    </tr>\n",
       "  </tbody>\n",
       "</table>\n",
       "</div>"
      ],
      "text/plain": [
       "                                              SMILES target_id        Kd\n",
       "0                      BrCCOc1ccc2nc3ccc(=O)cc3oc2c1    P05067  6.032920\n",
       "1                                     Br[Se]c1ccccc1    O75936  4.958607\n",
       "2  Brc1[nH]c2cccc3[C@H]4C[C@H](CN[C@@H]4Cc1c23)C(...    P28646  6.769551\n",
       "3  Brc1[nH]c2cccc3[C@H]4C[C@H](CN[C@@H]4Cc1c23)C(...    P30680  5.100015\n",
       "4                       Brc1c(Br)c(Br)c2[nH]cnc2c1Br    P16083  7.742321"
      ]
     },
     "execution_count": 3,
     "metadata": {},
     "output_type": "execute_result"
    }
   ],
   "source": [
    "target_df.head()"
   ]
  },
  {
   "cell_type": "code",
   "execution_count": 4,
   "id": "c8a9526e",
   "metadata": {},
   "outputs": [
    {
     "data": {
      "text/html": [
       "<div>\n",
       "<style scoped>\n",
       "    .dataframe tbody tr th:only-of-type {\n",
       "        vertical-align: middle;\n",
       "    }\n",
       "\n",
       "    .dataframe tbody tr th {\n",
       "        vertical-align: top;\n",
       "    }\n",
       "\n",
       "    .dataframe thead th {\n",
       "        text-align: right;\n",
       "    }\n",
       "</style>\n",
       "<table border=\"1\" class=\"dataframe\">\n",
       "  <thead>\n",
       "    <tr style=\"text-align: right;\">\n",
       "      <th></th>\n",
       "      <th>SMILES</th>\n",
       "      <th>target_sequence</th>\n",
       "      <th>Kd</th>\n",
       "    </tr>\n",
       "  </thead>\n",
       "  <tbody>\n",
       "    <tr>\n",
       "      <th>0</th>\n",
       "      <td>CSCC[C@H](NC(=O)[C@H](CC(C)C)NC(=O)CNC(=O)[C@@...</td>\n",
       "      <td>MGACDIVTEANISSDIDSNATGVTAFSMPGWQLALWATAYLALVLV...</td>\n",
       "      <td>5.230032</td>\n",
       "    </tr>\n",
       "    <tr>\n",
       "      <th>1</th>\n",
       "      <td>O\\N=C1\\c2ccccc2-c2nc3ccccc3nc12</td>\n",
       "      <td>MELRVGNRYRLGRKIGSGSFGDIYLGTDIAAGEEVAIKLECVKTKH...</td>\n",
       "      <td>6.420216</td>\n",
       "    </tr>\n",
       "    <tr>\n",
       "      <th>2</th>\n",
       "      <td>CC(C)C[C@H](NC(=O)[C@H](C)NC(=O)C[C@H](O)[C@H]...</td>\n",
       "      <td>MQPSSLLPLALCLLAAPASALVRIPLHKFTSIRRTMSEVGGSVEDL...</td>\n",
       "      <td>11.430041</td>\n",
       "    </tr>\n",
       "    <tr>\n",
       "      <th>3</th>\n",
       "      <td>Cc1n[nH]c2ccc(cc12)-c1cncc(OC[C@@H](N)Cc2ccccc...</td>\n",
       "      <td>MESEDLSGRELTIDSIMNKVRDIKNKFKNEDLTDELSLNKISADTT...</td>\n",
       "      <td>5.000000</td>\n",
       "    </tr>\n",
       "    <tr>\n",
       "      <th>4</th>\n",
       "      <td>CC(C)(C)NS(=O)(=O)c1ccc(-c2sc(nc2CC2CCCCC2)C(=...</td>\n",
       "      <td>MDRAPQRQHRASRELLAAKKTHTSQIEVIPCKICGDKSSGIHYGVI...</td>\n",
       "      <td>7.920819</td>\n",
       "    </tr>\n",
       "  </tbody>\n",
       "</table>\n",
       "</div>"
      ],
      "text/plain": [
       "                                              SMILES  \\\n",
       "0  CSCC[C@H](NC(=O)[C@H](CC(C)C)NC(=O)CNC(=O)[C@@...   \n",
       "1                    O\\N=C1\\c2ccccc2-c2nc3ccccc3nc12   \n",
       "2  CC(C)C[C@H](NC(=O)[C@H](C)NC(=O)C[C@H](O)[C@H]...   \n",
       "3  Cc1n[nH]c2ccc(cc12)-c1cncc(OC[C@@H](N)Cc2ccccc...   \n",
       "4  CC(C)(C)NS(=O)(=O)c1ccc(-c2sc(nc2CC2CCCCC2)C(=...   \n",
       "\n",
       "                                     target_sequence         Kd  \n",
       "0  MGACDIVTEANISSDIDSNATGVTAFSMPGWQLALWATAYLALVLV...   5.230032  \n",
       "1  MELRVGNRYRLGRKIGSGSFGDIYLGTDIAAGEEVAIKLECVKTKH...   6.420216  \n",
       "2  MQPSSLLPLALCLLAAPASALVRIPLHKFTSIRRTMSEVGGSVEDL...  11.430041  \n",
       "3  MESEDLSGRELTIDSIMNKVRDIKNKFKNEDLTDELSLNKISADTT...   5.000000  \n",
       "4  MDRAPQRQHRASRELLAAKKTHTSQIEVIPCKICGDKSSGIHYGVI...   7.920819  "
      ]
     },
     "execution_count": 4,
     "metadata": {},
     "output_type": "execute_result"
    }
   ],
   "source": [
    "test_df.head()"
   ]
  },
  {
   "cell_type": "code",
   "execution_count": 5,
   "id": "a0fc713c",
   "metadata": {},
   "outputs": [
    {
     "name": "stderr",
     "output_type": "stream",
     "text": [
      "Fetching FASTA sequences: 100%|██████████| 61256/61256 [43:40<00:00, 23.37it/s]\n"
     ]
    },
    {
     "name": "stdout",
     "output_type": "stream",
     "text": [
      "  target_id                                    target_sequence\n",
      "0    P05067  MLPGLALLLLAAWTARALEVPTDGNAGLLAEPQIAMFCGRLNMHMN...\n",
      "1    O75936  MACTIQKAEALDGAHLMQILWYDEEESLYPAVWLRDNCPCSDCYLD...\n",
      "2    P28646  MFPNGTAPSPTSSPSSSPGGCGEGVCSRGPGSGAADGMEEPGRNSS...\n",
      "3    P30680  MELTSEQFNGSQVWIPSPFDLNGSLGPSNGSNQTEPYYDMTSNAVL...\n",
      "4    P16083  MAGKKVLIVYAHQEPKSFNGSLKNVAVDELSRQGCTVTVSDLYAMN...\n"
     ]
    }
   ],
   "source": [
    "import requests\n",
    "from concurrent.futures import ThreadPoolExecutor, as_completed\n",
    "from tqdm import tqdm\n",
    "\n",
    "# Function to fetch FASTA from UniProt ID\n",
    "def fetch_fasta(uniprot_id):\n",
    "    if pd.isna(uniprot_id):\n",
    "        return None\n",
    "    url = f\"https://rest.uniprot.org/uniprotkb/{uniprot_id}.fasta\"\n",
    "    try:\n",
    "        response = requests.get(url, timeout=5)\n",
    "        if response.status_code == 200:\n",
    "            fasta = response.text\n",
    "            # Remove header (first line) and join sequence lines\n",
    "            sequence = ''.join(fasta.split('\\n')[1:]).strip()\n",
    "            return sequence\n",
    "    except:\n",
    "        return None\n",
    "    return None\n",
    "\n",
    "# Function to fetch all FASTA sequences in parallel\n",
    "def fetch_fasta_parallel(df, id_column='target_id', output_column='target_sequence', max_workers=20):\n",
    "    df[output_column] = None  # Create empty column\n",
    "\n",
    "    with ThreadPoolExecutor(max_workers=max_workers) as executor:\n",
    "        futures = {\n",
    "            executor.submit(fetch_fasta, row[id_column]): idx\n",
    "            for idx, row in df.iterrows()\n",
    "        }\n",
    "\n",
    "        for future in tqdm(as_completed(futures), total=len(futures), desc=\"Fetching FASTA sequences\"):\n",
    "            idx = futures[future]\n",
    "            try:\n",
    "                df.at[idx, output_column] = future.result()\n",
    "            except Exception as e:\n",
    "                df.at[idx, output_column] = None\n",
    "\n",
    "    return df\n",
    "\n",
    "# Assuming you already have a dataframe 'df'\n",
    "# Run parallel FASTA fetching\n",
    "df = fetch_fasta_parallel(target_df, id_column='target_id', output_column='target_sequence', max_workers=20)\n",
    "# Show rows 0–50 (or first 5 rows if you prefer)\n",
    "print(df[['target_id', 'target_sequence']].head(5))\n"
   ]
  },
  {
   "cell_type": "code",
   "execution_count": 7,
   "id": "4c6ab3d0",
   "metadata": {},
   "outputs": [],
   "source": [
    "filtered_ref_df = target_df.merge(\n",
    "    test_df[['SMILES', 'target_sequence']],\n",
    "    on=['SMILES', 'target_sequence'],\n",
    "    how='inner'\n",
    ")"
   ]
  },
  {
   "cell_type": "code",
   "execution_count": 8,
   "id": "7ae19c2d",
   "metadata": {},
   "outputs": [
    {
     "data": {
      "text/html": [
       "<div>\n",
       "<style scoped>\n",
       "    .dataframe tbody tr th:only-of-type {\n",
       "        vertical-align: middle;\n",
       "    }\n",
       "\n",
       "    .dataframe tbody tr th {\n",
       "        vertical-align: top;\n",
       "    }\n",
       "\n",
       "    .dataframe thead th {\n",
       "        text-align: right;\n",
       "    }\n",
       "</style>\n",
       "<table border=\"1\" class=\"dataframe\">\n",
       "  <thead>\n",
       "    <tr style=\"text-align: right;\">\n",
       "      <th></th>\n",
       "      <th>SMILES</th>\n",
       "      <th>target_id</th>\n",
       "      <th>Kd</th>\n",
       "      <th>target_sequence</th>\n",
       "    </tr>\n",
       "  </thead>\n",
       "  <tbody>\n",
       "    <tr>\n",
       "      <th>0</th>\n",
       "      <td>Brc1c[nH]c(c1)C(=O)NCc1cccc(Cn2cnc3ccccc23)c1</td>\n",
       "      <td>P14902</td>\n",
       "      <td>6.259637</td>\n",
       "      <td>MAHAMENSWTISKEYHIDEEVGFALPNPQENLPDFYNDWMFIAKHL...</td>\n",
       "    </tr>\n",
       "    <tr>\n",
       "      <th>1</th>\n",
       "      <td>Brc1ccc(cc1)C(CCNC(=N)NCCCc1cnc[nH]1)c1ccccn1</td>\n",
       "      <td>P31389</td>\n",
       "      <td>6.919987</td>\n",
       "      <td>MSFLPGMTPVTLSNFSWALEDRMLEGNSTTTPTRQLMPLVVVLSSV...</td>\n",
       "    </tr>\n",
       "    <tr>\n",
       "      <th>2</th>\n",
       "      <td>Brc1ccc(cc1)C1CC2CCC1N2</td>\n",
       "      <td>P43144</td>\n",
       "      <td>10.346787</td>\n",
       "      <td>MNRPHSCLSFCWMYFAASGIRAVETANGKYAQKLFSDLFEDYSSAL...</td>\n",
       "    </tr>\n",
       "    <tr>\n",
       "      <th>3</th>\n",
       "      <td>Brc1ccc(cc1)[C@@H]1[C@H]2CN(C(=O)C[C@@H]2CS[C@...</td>\n",
       "      <td>Q00987</td>\n",
       "      <td>5.705534</td>\n",
       "      <td>MCNTNMSVPTDGAVTTSQIPASEQETLVRPKPLLLKLLKSVGAQKD...</td>\n",
       "    </tr>\n",
       "    <tr>\n",
       "      <th>4</th>\n",
       "      <td>Brc1ccc2CCCC(Nc3nc4ccccc4[nH]3)c2c1</td>\n",
       "      <td>P70605</td>\n",
       "      <td>7.958607</td>\n",
       "      <td>MDTSGHFHDSGVGDLDEDPKCPCPSSGDEQQQQQQPPPPSAPPAVP...</td>\n",
       "    </tr>\n",
       "  </tbody>\n",
       "</table>\n",
       "</div>"
      ],
      "text/plain": [
       "                                              SMILES target_id         Kd  \\\n",
       "0      Brc1c[nH]c(c1)C(=O)NCc1cccc(Cn2cnc3ccccc23)c1    P14902   6.259637   \n",
       "1      Brc1ccc(cc1)C(CCNC(=N)NCCCc1cnc[nH]1)c1ccccn1    P31389   6.919987   \n",
       "2                            Brc1ccc(cc1)C1CC2CCC1N2    P43144  10.346787   \n",
       "3  Brc1ccc(cc1)[C@@H]1[C@H]2CN(C(=O)C[C@@H]2CS[C@...    Q00987   5.705534   \n",
       "4                Brc1ccc2CCCC(Nc3nc4ccccc4[nH]3)c2c1    P70605   7.958607   \n",
       "\n",
       "                                     target_sequence  \n",
       "0  MAHAMENSWTISKEYHIDEEVGFALPNPQENLPDFYNDWMFIAKHL...  \n",
       "1  MSFLPGMTPVTLSNFSWALEDRMLEGNSTTTPTRQLMPLVVVLSSV...  \n",
       "2  MNRPHSCLSFCWMYFAASGIRAVETANGKYAQKLFSDLFEDYSSAL...  \n",
       "3  MCNTNMSVPTDGAVTTSQIPASEQETLVRPKPLLLKLLKSVGAQKD...  \n",
       "4  MDTSGHFHDSGVGDLDEDPKCPCPSSGDEQQQQQQPPPPSAPPAVP...  "
      ]
     },
     "execution_count": 8,
     "metadata": {},
     "output_type": "execute_result"
    }
   ],
   "source": [
    "filtered_ref_df.head()"
   ]
  },
  {
   "cell_type": "code",
   "execution_count": 9,
   "id": "bdb9beee",
   "metadata": {},
   "outputs": [
    {
     "data": {
      "text/plain": [
       "6115"
      ]
     },
     "execution_count": 9,
     "metadata": {},
     "output_type": "execute_result"
    }
   ],
   "source": [
    "len(filtered_ref_df)"
   ]
  },
  {
   "cell_type": "code",
   "execution_count": 10,
   "id": "98e1ba72",
   "metadata": {},
   "outputs": [],
   "source": [
    "filtered_ref_df.to_csv(\"test_ID_dataset.csv\", index=False)"
   ]
  }
 ],
 "metadata": {
  "kernelspec": {
   "display_name": ".venv",
   "language": "python",
   "name": "python3"
  },
  "language_info": {
   "codemirror_mode": {
    "name": "ipython",
    "version": 3
   },
   "file_extension": ".py",
   "mimetype": "text/x-python",
   "name": "python",
   "nbconvert_exporter": "python",
   "pygments_lexer": "ipython3",
   "version": "3.11.7"
  }
 },
 "nbformat": 4,
 "nbformat_minor": 5
}
