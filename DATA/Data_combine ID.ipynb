{
 "cells": [
  {
   "cell_type": "code",
   "execution_count": 1,
   "id": "fa53d938",
   "metadata": {},
   "outputs": [],
   "source": [
    "import pandas as pd\n",
    "import numpy as np\n",
    "from sklearn.model_selection import train_test_split\n"
   ]
  },
  {
   "cell_type": "code",
   "execution_count": 2,
   "id": "40bb6309",
   "metadata": {},
   "outputs": [],
   "source": [
    "df1 = pd.read_csv('Kaggle/processed_data.csv')\n",
    "df2 = pd.read_csv('PLDock/processed_data.csv')"
   ]
  },
  {
   "cell_type": "code",
   "execution_count": 3,
   "id": "56158c88",
   "metadata": {},
   "outputs": [
    {
     "data": {
      "text/plain": [
       "Index(['drug_id', 'target_id', 'smiles', 'origin_affinity', 'affinity',\n",
       "       'target_sequence'],\n",
       "      dtype='object')"
      ]
     },
     "execution_count": 3,
     "metadata": {},
     "output_type": "execute_result"
    }
   ],
   "source": [
    "df1.keys()\n"
   ]
  },
  {
   "cell_type": "code",
   "execution_count": 4,
   "id": "e0962d63",
   "metadata": {},
   "outputs": [
    {
     "data": {
      "text/plain": [
       "Index(['Uniprot Accession', 'ligand_chembl_id', 'Kd', 'SMILES',\n",
       "       'target_sequence'],\n",
       "      dtype='object')"
      ]
     },
     "execution_count": 4,
     "metadata": {},
     "output_type": "execute_result"
    }
   ],
   "source": [
    "df2.keys()"
   ]
  },
  {
   "cell_type": "code",
   "execution_count": 5,
   "id": "232f5752",
   "metadata": {},
   "outputs": [],
   "source": [
    "df1 = df1.drop(columns=['drug_id','target_sequence','affinity']).reset_index(drop=True)"
   ]
  },
  {
   "cell_type": "code",
   "execution_count": 6,
   "id": "6c0b676b",
   "metadata": {},
   "outputs": [],
   "source": [
    "df2 = df2.drop(columns=['target_sequence','ligand_chembl_id',]).reset_index(drop=True)"
   ]
  },
  {
   "cell_type": "code",
   "execution_count": 7,
   "id": "c1be8bed",
   "metadata": {},
   "outputs": [],
   "source": [
    "df1.rename(columns={'origin_affinity' : 'Kd','smiles' : 'SMILES'}, inplace=True)"
   ]
  },
  {
   "cell_type": "code",
   "execution_count": 8,
   "id": "63e03571",
   "metadata": {},
   "outputs": [
    {
     "data": {
      "text/plain": [
       "Index(['target_id', 'SMILES', 'Kd'], dtype='object')"
      ]
     },
     "execution_count": 8,
     "metadata": {},
     "output_type": "execute_result"
    }
   ],
   "source": [
    "df1.keys()"
   ]
  },
  {
   "cell_type": "code",
   "execution_count": 9,
   "id": "d2f51727",
   "metadata": {},
   "outputs": [
    {
     "data": {
      "text/plain": [
       "Index(['Uniprot Accession', 'Kd', 'SMILES'], dtype='object')"
      ]
     },
     "execution_count": 9,
     "metadata": {},
     "output_type": "execute_result"
    }
   ],
   "source": [
    "df2.keys()"
   ]
  },
  {
   "cell_type": "code",
   "execution_count": 10,
   "id": "3e9e4bb8",
   "metadata": {},
   "outputs": [],
   "source": [
    "df2.rename(columns={'Uniprot Accession' : 'target_id'}, inplace=True)"
   ]
  },
  {
   "cell_type": "code",
   "execution_count": 11,
   "id": "b045aa65",
   "metadata": {},
   "outputs": [],
   "source": [
    "df1 = df1[['SMILES','target_id','Kd']]\n",
    "df2 = df2[['SMILES','target_id','Kd']]"
   ]
  },
  {
   "cell_type": "code",
   "execution_count": 12,
   "id": "3df8c7b7",
   "metadata": {},
   "outputs": [
    {
     "data": {
      "text/html": [
       "<div>\n",
       "<style scoped>\n",
       "    .dataframe tbody tr th:only-of-type {\n",
       "        vertical-align: middle;\n",
       "    }\n",
       "\n",
       "    .dataframe tbody tr th {\n",
       "        vertical-align: top;\n",
       "    }\n",
       "\n",
       "    .dataframe thead th {\n",
       "        text-align: right;\n",
       "    }\n",
       "</style>\n",
       "<table border=\"1\" class=\"dataframe\">\n",
       "  <thead>\n",
       "    <tr style=\"text-align: right;\">\n",
       "      <th></th>\n",
       "      <th>SMILES</th>\n",
       "      <th>target_id</th>\n",
       "      <th>Kd</th>\n",
       "    </tr>\n",
       "  </thead>\n",
       "  <tbody>\n",
       "    <tr>\n",
       "      <th>0</th>\n",
       "      <td>BrCCOc1ccc2nc3ccc(=O)cc3oc2c1</td>\n",
       "      <td>P05067</td>\n",
       "      <td>927.0</td>\n",
       "    </tr>\n",
       "    <tr>\n",
       "      <th>1</th>\n",
       "      <td>Br[Se]c1ccccc1</td>\n",
       "      <td>O75936</td>\n",
       "      <td>11000.0</td>\n",
       "    </tr>\n",
       "    <tr>\n",
       "      <th>2</th>\n",
       "      <td>Brc1[nH]c2cccc3[C@H]4C[C@H](CN[C@@H]4Cc1c23)C(...</td>\n",
       "      <td>P30680</td>\n",
       "      <td>7943.0</td>\n",
       "    </tr>\n",
       "    <tr>\n",
       "      <th>3</th>\n",
       "      <td>Brc1[nH]c2cccc3[C@H]4C[C@H](CN[C@@H]4Cc1c23)C(...</td>\n",
       "      <td>P28646</td>\n",
       "      <td>170.0</td>\n",
       "    </tr>\n",
       "    <tr>\n",
       "      <th>4</th>\n",
       "      <td>Brc1c(Br)c(Br)c2[nH]cnc2c1Br</td>\n",
       "      <td>P16083</td>\n",
       "      <td>18.1</td>\n",
       "    </tr>\n",
       "  </tbody>\n",
       "</table>\n",
       "</div>"
      ],
      "text/plain": [
       "                                              SMILES target_id       Kd\n",
       "0                      BrCCOc1ccc2nc3ccc(=O)cc3oc2c1    P05067    927.0\n",
       "1                                     Br[Se]c1ccccc1    O75936  11000.0\n",
       "2  Brc1[nH]c2cccc3[C@H]4C[C@H](CN[C@@H]4Cc1c23)C(...    P30680   7943.0\n",
       "3  Brc1[nH]c2cccc3[C@H]4C[C@H](CN[C@@H]4Cc1c23)C(...    P28646    170.0\n",
       "4                       Brc1c(Br)c(Br)c2[nH]cnc2c1Br    P16083     18.1"
      ]
     },
     "execution_count": 12,
     "metadata": {},
     "output_type": "execute_result"
    }
   ],
   "source": [
    "df1.head()"
   ]
  },
  {
   "cell_type": "code",
   "execution_count": 13,
   "id": "0dd868e3",
   "metadata": {},
   "outputs": [
    {
     "data": {
      "text/html": [
       "<div>\n",
       "<style scoped>\n",
       "    .dataframe tbody tr th:only-of-type {\n",
       "        vertical-align: middle;\n",
       "    }\n",
       "\n",
       "    .dataframe tbody tr th {\n",
       "        vertical-align: top;\n",
       "    }\n",
       "\n",
       "    .dataframe thead th {\n",
       "        text-align: right;\n",
       "    }\n",
       "</style>\n",
       "<table border=\"1\" class=\"dataframe\">\n",
       "  <thead>\n",
       "    <tr style=\"text-align: right;\">\n",
       "      <th></th>\n",
       "      <th>SMILES</th>\n",
       "      <th>target_id</th>\n",
       "      <th>Kd</th>\n",
       "    </tr>\n",
       "  </thead>\n",
       "  <tbody>\n",
       "    <tr>\n",
       "      <th>0</th>\n",
       "      <td>Brc1c(Br)c(Br)c2[nH]cnc2c1Br</td>\n",
       "      <td>P16083</td>\n",
       "      <td>18.10</td>\n",
       "    </tr>\n",
       "    <tr>\n",
       "      <th>1</th>\n",
       "      <td>Brc1ccc(CN2CCCC2)cc1</td>\n",
       "      <td>Q07889</td>\n",
       "      <td>1300000.00</td>\n",
       "    </tr>\n",
       "    <tr>\n",
       "      <th>2</th>\n",
       "      <td>Brc1cccc([C@@H]2C[C@H](c3cccc(Br)c3)n3nnnc3N2)c1</td>\n",
       "      <td>Q99814</td>\n",
       "      <td>65.30</td>\n",
       "    </tr>\n",
       "    <tr>\n",
       "      <th>3</th>\n",
       "      <td>Brc1cncc(-c2nnn[nH]2)c1</td>\n",
       "      <td>Q05397</td>\n",
       "      <td>95000.00</td>\n",
       "    </tr>\n",
       "    <tr>\n",
       "      <th>4</th>\n",
       "      <td>C#CCCCSC[C@H]1CN(Cc2c[nH]c3c(N)ncnc23)C[C@@H]1O</td>\n",
       "      <td>Q13126</td>\n",
       "      <td>0.94</td>\n",
       "    </tr>\n",
       "  </tbody>\n",
       "</table>\n",
       "</div>"
      ],
      "text/plain": [
       "                                             SMILES target_id          Kd\n",
       "0                      Brc1c(Br)c(Br)c2[nH]cnc2c1Br    P16083       18.10\n",
       "1                              Brc1ccc(CN2CCCC2)cc1    Q07889  1300000.00\n",
       "2  Brc1cccc([C@@H]2C[C@H](c3cccc(Br)c3)n3nnnc3N2)c1    Q99814       65.30\n",
       "3                           Brc1cncc(-c2nnn[nH]2)c1    Q05397    95000.00\n",
       "4   C#CCCCSC[C@H]1CN(Cc2c[nH]c3c(N)ncnc23)C[C@@H]1O    Q13126        0.94"
      ]
     },
     "execution_count": 13,
     "metadata": {},
     "output_type": "execute_result"
    }
   ],
   "source": [
    "df2.head()"
   ]
  },
  {
   "cell_type": "code",
   "execution_count": 14,
   "id": "be2bea52",
   "metadata": {},
   "outputs": [],
   "source": [
    "df = pd.concat([df1,df2], ignore_index=True)\n"
   ]
  },
  {
   "cell_type": "code",
   "execution_count": 15,
   "id": "db2082f4",
   "metadata": {},
   "outputs": [
    {
     "data": {
      "text/html": [
       "<div>\n",
       "<style scoped>\n",
       "    .dataframe tbody tr th:only-of-type {\n",
       "        vertical-align: middle;\n",
       "    }\n",
       "\n",
       "    .dataframe tbody tr th {\n",
       "        vertical-align: top;\n",
       "    }\n",
       "\n",
       "    .dataframe thead th {\n",
       "        text-align: right;\n",
       "    }\n",
       "</style>\n",
       "<table border=\"1\" class=\"dataframe\">\n",
       "  <thead>\n",
       "    <tr style=\"text-align: right;\">\n",
       "      <th></th>\n",
       "      <th>SMILES</th>\n",
       "      <th>target_id</th>\n",
       "      <th>Kd</th>\n",
       "    </tr>\n",
       "  </thead>\n",
       "  <tbody>\n",
       "    <tr>\n",
       "      <th>0</th>\n",
       "      <td>BrCCOc1ccc2nc3ccc(=O)cc3oc2c1</td>\n",
       "      <td>P05067</td>\n",
       "      <td>927.0</td>\n",
       "    </tr>\n",
       "    <tr>\n",
       "      <th>1</th>\n",
       "      <td>Br[Se]c1ccccc1</td>\n",
       "      <td>O75936</td>\n",
       "      <td>11000.0</td>\n",
       "    </tr>\n",
       "    <tr>\n",
       "      <th>2</th>\n",
       "      <td>Brc1[nH]c2cccc3[C@H]4C[C@H](CN[C@@H]4Cc1c23)C(...</td>\n",
       "      <td>P30680</td>\n",
       "      <td>7943.0</td>\n",
       "    </tr>\n",
       "    <tr>\n",
       "      <th>3</th>\n",
       "      <td>Brc1[nH]c2cccc3[C@H]4C[C@H](CN[C@@H]4Cc1c23)C(...</td>\n",
       "      <td>P28646</td>\n",
       "      <td>170.0</td>\n",
       "    </tr>\n",
       "    <tr>\n",
       "      <th>4</th>\n",
       "      <td>Brc1c(Br)c(Br)c2[nH]cnc2c1Br</td>\n",
       "      <td>P16083</td>\n",
       "      <td>18.1</td>\n",
       "    </tr>\n",
       "  </tbody>\n",
       "</table>\n",
       "</div>"
      ],
      "text/plain": [
       "                                              SMILES target_id       Kd\n",
       "0                      BrCCOc1ccc2nc3ccc(=O)cc3oc2c1    P05067    927.0\n",
       "1                                     Br[Se]c1ccccc1    O75936  11000.0\n",
       "2  Brc1[nH]c2cccc3[C@H]4C[C@H](CN[C@@H]4Cc1c23)C(...    P30680   7943.0\n",
       "3  Brc1[nH]c2cccc3[C@H]4C[C@H](CN[C@@H]4Cc1c23)C(...    P28646    170.0\n",
       "4                       Brc1c(Br)c(Br)c2[nH]cnc2c1Br    P16083     18.1"
      ]
     },
     "execution_count": 15,
     "metadata": {},
     "output_type": "execute_result"
    }
   ],
   "source": [
    "df.head()"
   ]
  },
  {
   "cell_type": "code",
   "execution_count": 16,
   "id": "7324cc4a",
   "metadata": {},
   "outputs": [
    {
     "data": {
      "text/plain": [
       "SMILES       0\n",
       "target_id    0\n",
       "Kd           0\n",
       "dtype: int64"
      ]
     },
     "execution_count": 16,
     "metadata": {},
     "output_type": "execute_result"
    }
   ],
   "source": [
    "df.isna().sum()"
   ]
  },
  {
   "cell_type": "code",
   "execution_count": 17,
   "id": "abefca0e",
   "metadata": {},
   "outputs": [],
   "source": [
    "df = df.dropna()"
   ]
  },
  {
   "cell_type": "code",
   "execution_count": 18,
   "id": "b4383bd0",
   "metadata": {},
   "outputs": [
    {
     "data": {
      "text/plain": [
       "61481"
      ]
     },
     "execution_count": 18,
     "metadata": {},
     "output_type": "execute_result"
    }
   ],
   "source": [
    "len(df)"
   ]
  },
  {
   "cell_type": "code",
   "execution_count": 19,
   "id": "8ce0217b",
   "metadata": {},
   "outputs": [],
   "source": [
    "# sort so that lowest Kd comes first in each group\n",
    "df = df.sort_values(['SMILES', 'target_id', 'Kd'], ascending=[True, True, True])\n",
    "\n",
    "# drop later duplicates, keeping the first (which has the lowest Kd)\n",
    "df = df.drop_duplicates(subset=['SMILES', 'target_id'], keep='first').reset_index(drop=True)"
   ]
  },
  {
   "cell_type": "code",
   "execution_count": 20,
   "id": "38147ee6",
   "metadata": {},
   "outputs": [
    {
     "data": {
      "text/html": [
       "<div>\n",
       "<style scoped>\n",
       "    .dataframe tbody tr th:only-of-type {\n",
       "        vertical-align: middle;\n",
       "    }\n",
       "\n",
       "    .dataframe tbody tr th {\n",
       "        vertical-align: top;\n",
       "    }\n",
       "\n",
       "    .dataframe thead th {\n",
       "        text-align: right;\n",
       "    }\n",
       "</style>\n",
       "<table border=\"1\" class=\"dataframe\">\n",
       "  <thead>\n",
       "    <tr style=\"text-align: right;\">\n",
       "      <th></th>\n",
       "      <th>SMILES</th>\n",
       "      <th>target_id</th>\n",
       "      <th>Kd</th>\n",
       "    </tr>\n",
       "  </thead>\n",
       "  <tbody>\n",
       "    <tr>\n",
       "      <th>0</th>\n",
       "      <td>BrCCOc1ccc2nc3ccc(=O)cc3oc2c1</td>\n",
       "      <td>P05067</td>\n",
       "      <td>927.0</td>\n",
       "    </tr>\n",
       "    <tr>\n",
       "      <th>1</th>\n",
       "      <td>Br[Se]c1ccccc1</td>\n",
       "      <td>O75936</td>\n",
       "      <td>11000.0</td>\n",
       "    </tr>\n",
       "    <tr>\n",
       "      <th>2</th>\n",
       "      <td>Brc1[nH]c2cccc3[C@H]4C[C@H](CN[C@@H]4Cc1c23)C(...</td>\n",
       "      <td>P28646</td>\n",
       "      <td>170.0</td>\n",
       "    </tr>\n",
       "    <tr>\n",
       "      <th>3</th>\n",
       "      <td>Brc1[nH]c2cccc3[C@H]4C[C@H](CN[C@@H]4Cc1c23)C(...</td>\n",
       "      <td>P30680</td>\n",
       "      <td>7943.0</td>\n",
       "    </tr>\n",
       "    <tr>\n",
       "      <th>4</th>\n",
       "      <td>Brc1c(Br)c(Br)c2[nH]cnc2c1Br</td>\n",
       "      <td>P16083</td>\n",
       "      <td>18.1</td>\n",
       "    </tr>\n",
       "  </tbody>\n",
       "</table>\n",
       "</div>"
      ],
      "text/plain": [
       "                                              SMILES target_id       Kd\n",
       "0                      BrCCOc1ccc2nc3ccc(=O)cc3oc2c1    P05067    927.0\n",
       "1                                     Br[Se]c1ccccc1    O75936  11000.0\n",
       "2  Brc1[nH]c2cccc3[C@H]4C[C@H](CN[C@@H]4Cc1c23)C(...    P28646    170.0\n",
       "3  Brc1[nH]c2cccc3[C@H]4C[C@H](CN[C@@H]4Cc1c23)C(...    P30680   7943.0\n",
       "4                       Brc1c(Br)c(Br)c2[nH]cnc2c1Br    P16083     18.1"
      ]
     },
     "execution_count": 20,
     "metadata": {},
     "output_type": "execute_result"
    }
   ],
   "source": [
    "df.head()"
   ]
  },
  {
   "cell_type": "code",
   "execution_count": 21,
   "id": "2903dd69",
   "metadata": {},
   "outputs": [
    {
     "data": {
      "text/plain": [
       "61264"
      ]
     },
     "execution_count": 21,
     "metadata": {},
     "output_type": "execute_result"
    }
   ],
   "source": [
    "len(df)"
   ]
  },
  {
   "cell_type": "code",
   "execution_count": 22,
   "id": "0541d0aa",
   "metadata": {},
   "outputs": [],
   "source": [
    "import pandas as pd\n",
    "import numpy as np"
   ]
  },
  {
   "cell_type": "code",
   "execution_count": 23,
   "id": "975acefe",
   "metadata": {},
   "outputs": [],
   "source": [
    "# Ensure no 0, negative, or NaN Kd values\n",
    "df = df[df['Kd'].notna()]  # drop NaNs\n",
    "df = df[df['Kd'] > 0]      # drop zero or negative values\n"
   ]
  },
  {
   "cell_type": "code",
   "execution_count": 24,
   "id": "f4f95c12",
   "metadata": {},
   "outputs": [],
   "source": [
    "df['Kd'] = 9 - np.log10(df['Kd'])"
   ]
  },
  {
   "cell_type": "code",
   "execution_count": 25,
   "id": "22adfbc4",
   "metadata": {},
   "outputs": [],
   "source": [
    "# Ensure no 0, negative, or NaN Kd values\n",
    "df = df[df['Kd'].notna()]  # drop NaNs\n",
    "df = df[df['Kd'] > 0]      # drop zero or negative values\n"
   ]
  },
  {
   "cell_type": "code",
   "execution_count": 26,
   "id": "e6d6a187",
   "metadata": {},
   "outputs": [
    {
     "name": "stdout",
     "output_type": "stream",
     "text": [
      "NaN in Kd: False\n",
      "Inf in Kd: False\n",
      "Zero in Kd: False\n"
     ]
    }
   ],
   "source": [
    "# Check only Kd column\n",
    "print(\"NaN in Kd:\", df['Kd'].isna().any())\n",
    "print(\"Inf in Kd:\", np.isinf(df['Kd']).any())\n",
    "print(\"Zero in Kd:\", (df['Kd'] == 0).any())\n"
   ]
  },
  {
   "cell_type": "code",
   "execution_count": null,
   "id": "56a44e95",
   "metadata": {},
   "outputs": [],
   "source": [
    "df.to_csv('Target_ID/no_split.csv', index=False)"
   ]
  },
  {
   "cell_type": "code",
   "execution_count": null,
   "id": "3194c4d4",
   "metadata": {},
   "outputs": [],
   "source": [
    "#split into train and test sets\n",
    "train_df, test_df = train_test_split(df, test_size=0.1, random_state=42)"
   ]
  },
  {
   "cell_type": "code",
   "execution_count": null,
   "id": "86bd5a16",
   "metadata": {},
   "outputs": [
    {
     "data": {
      "text/plain": [
       "(55130, 6126)"
      ]
     },
     "execution_count": 31,
     "metadata": {},
     "output_type": "execute_result"
    }
   ],
   "source": [
    "len(train_df), len(test_df)"
   ]
  },
  {
   "cell_type": "code",
   "execution_count": null,
   "id": "5c299154",
   "metadata": {},
   "outputs": [],
   "source": [
    "train_df.to_csv('Target_ID/Kd.csv', index=False)\n",
    "test_df.to_csv('Target_ID/test_dataset.csv', index=False)"
   ]
  }
 ],
 "metadata": {
  "kernelspec": {
   "display_name": ".venv",
   "language": "python",
   "name": "python3"
  },
  "language_info": {
   "codemirror_mode": {
    "name": "ipython",
    "version": 3
   },
   "file_extension": ".py",
   "mimetype": "text/x-python",
   "name": "python",
   "nbconvert_exporter": "python",
   "pygments_lexer": "ipython3",
   "version": "3.11.7"
  }
 },
 "nbformat": 4,
 "nbformat_minor": 5
}
