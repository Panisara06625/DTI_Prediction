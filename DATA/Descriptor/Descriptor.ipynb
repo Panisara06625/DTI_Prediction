{
 "cells": [
  {
   "cell_type": "code",
   "execution_count": 28,
   "id": "a8ea893f",
   "metadata": {},
   "outputs": [
    {
     "name": "stdout",
     "output_type": "stream",
     "text": [
      "Requirement already satisfied: rdkit in c:\\users\\nongnam\\documents\\ai_builder\\.venv\\lib\\site-packages (2025.3.2)\n",
      "Requirement already satisfied: biopython in c:\\users\\nongnam\\documents\\ai_builder\\.venv\\lib\\site-packages (1.81)\n",
      "Requirement already satisfied: numpy in c:\\users\\nongnam\\documents\\ai_builder\\.venv\\lib\\site-packages (from rdkit) (1.26.4)\n",
      "Requirement already satisfied: Pillow in c:\\users\\nongnam\\documents\\ai_builder\\.venv\\lib\\site-packages (from rdkit) (11.2.1)\n",
      "Note: you may need to restart the kernel to use updated packages.\n"
     ]
    },
    {
     "name": "stderr",
     "output_type": "stream",
     "text": [
      "\n",
      "[notice] A new release of pip is available: 23.2.1 -> 25.1.1\n",
      "[notice] To update, run: python.exe -m pip install --upgrade pip\n"
     ]
    }
   ],
   "source": [
    "pip install rdkit biopython"
   ]
  },
  {
   "cell_type": "code",
   "execution_count": 29,
   "id": "e71efa3b",
   "metadata": {},
   "outputs": [],
   "source": [
    "import pandas as pd\n",
    "from rdkit import Chem\n",
    "from rdkit.Chem import Descriptors\n",
    "from Bio.SeqUtils.ProtParam import ProteinAnalysis\n",
    "import numpy as np"
   ]
  },
  {
   "cell_type": "code",
   "execution_count": 30,
   "id": "dcf53b2b",
   "metadata": {},
   "outputs": [],
   "source": [
    "# Load your dataset\n",
    "df = pd.read_csv('test_dataset.csv')  # adjust filename if needed"
   ]
  },
  {
   "cell_type": "code",
   "execution_count": 31,
   "id": "e866ff67",
   "metadata": {},
   "outputs": [
    {
     "data": {
      "text/plain": [
       "SMILES             0\n",
       "target_sequence    0\n",
       "Kd                 0\n",
       "dtype: int64"
      ]
     },
     "execution_count": 31,
     "metadata": {},
     "output_type": "execute_result"
    }
   ],
   "source": [
    "df.isna().sum()"
   ]
  },
  {
   "cell_type": "code",
   "execution_count": 32,
   "id": "313b9e7c",
   "metadata": {},
   "outputs": [],
   "source": [
    "def compute_selected_smiles_descriptors(smiles):\n",
    "    mol = Chem.MolFromSmiles(smiles)\n",
    "    if mol is None:\n",
    "        return None\n",
    "\n",
    "    return [\n",
    "        Descriptors.SlogP_VSA5(mol),\n",
    "        Descriptors.BCUT2D_CHGHI(mol),\n",
    "        Descriptors.SMR_VSA5(mol),\n",
    "        Descriptors.MinEStateIndex(mol),\n",
    "        Descriptors.Chi4v(mol)\n",
    "    ]\n",
    "\n",
    "# Apply to SMILES column\n",
    "mol_desc = df['SMILES'].apply(compute_selected_smiles_descriptors)\n",
    "mol_desc = mol_desc.dropna()\n",
    "\n",
    "# Create DataFrame\n",
    "mol_desc_df = pd.DataFrame(mol_desc.tolist(), columns=[\n",
    "    'SlogP_VSA5', 'BCUT2D_CHGHI', 'SMR_VSA5', 'MinEStateIndex', 'Chi4v'\n",
    "])"
   ]
  },
  {
   "cell_type": "code",
   "execution_count": 33,
   "id": "218ede2b",
   "metadata": {},
   "outputs": [],
   "source": [
    "def compute_protein_descriptors(seq):\n",
    "    try:\n",
    "        analyzed_seq = ProteinAnalysis(seq)\n",
    "        return [\n",
    "            analyzed_seq.molecular_weight(),\n",
    "            analyzed_seq.aromaticity(),\n",
    "            analyzed_seq.instability_index(),\n",
    "            analyzed_seq.gravy(),\n",
    "            analyzed_seq.isoelectric_point()\n",
    "        ]\n",
    "    except:\n",
    "        return None\n",
    "\n",
    "# Only apply on rows with valid SMILES descriptors\n",
    "prot_desc = df.loc[mol_desc.index, 'target_sequence'].apply(compute_protein_descriptors)\n",
    "prot_desc = prot_desc.dropna()\n",
    "\n",
    "# Create DataFrame\n",
    "prot_desc_df = pd.DataFrame(prot_desc.tolist(), columns=[\n",
    "    'Prot_MW', 'Aromaticity', 'Instability', 'Hydropathy', 'IsoelectricPoint'\n",
    "])"
   ]
  },
  {
   "cell_type": "code",
   "execution_count": 34,
   "id": "ad54a093",
   "metadata": {},
   "outputs": [],
   "source": [
    "# --- Final dataset ---\n",
    "kd_filtered = df.loc[prot_desc.index, 'Kd'].reset_index(drop=True)\n",
    "final_df = pd.concat([mol_desc_df.reset_index(drop=True), prot_desc_df.reset_index(drop=True), kd_filtered], axis=1)\n",
    "final_df.columns = list(final_df.columns[:-1]) + ['Kd']"
   ]
  },
  {
   "cell_type": "code",
   "execution_count": 35,
   "id": "bd24f469",
   "metadata": {},
   "outputs": [
    {
     "data": {
      "text/plain": [
       "SlogP_VSA5           0\n",
       "BCUT2D_CHGHI        13\n",
       "SMR_VSA5             0\n",
       "MinEStateIndex       0\n",
       "Chi4v                0\n",
       "Prot_MW              1\n",
       "Aromaticity          1\n",
       "Instability          1\n",
       "Hydropathy           1\n",
       "IsoelectricPoint     1\n",
       "Kd                   1\n",
       "dtype: int64"
      ]
     },
     "execution_count": 35,
     "metadata": {},
     "output_type": "execute_result"
    }
   ],
   "source": [
    "final_df.isna().sum()"
   ]
  },
  {
   "cell_type": "code",
   "execution_count": 36,
   "id": "b91d0360",
   "metadata": {},
   "outputs": [],
   "source": [
    "final_df = final_df.dropna()"
   ]
  },
  {
   "cell_type": "code",
   "execution_count": 37,
   "id": "47ab87fb",
   "metadata": {},
   "outputs": [
    {
     "data": {
      "text/plain": [
       "6099"
      ]
     },
     "execution_count": 37,
     "metadata": {},
     "output_type": "execute_result"
    }
   ],
   "source": [
    "len(final_df)"
   ]
  },
  {
   "cell_type": "code",
   "execution_count": 38,
   "id": "0c7f708b",
   "metadata": {},
   "outputs": [],
   "source": [
    "# Save to CSV\n",
    "final_df.to_csv(\"descriptor_test.csv\", index=False)"
   ]
  }
 ],
 "metadata": {
  "kernelspec": {
   "display_name": ".venv",
   "language": "python",
   "name": "python3"
  },
  "language_info": {
   "codemirror_mode": {
    "name": "ipython",
    "version": 3
   },
   "file_extension": ".py",
   "mimetype": "text/x-python",
   "name": "python",
   "nbconvert_exporter": "python",
   "pygments_lexer": "ipython3",
   "version": "3.11.7"
  }
 },
 "nbformat": 4,
 "nbformat_minor": 5
}
