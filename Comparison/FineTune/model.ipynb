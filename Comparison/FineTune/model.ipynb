{
 "cells": [
  {
   "cell_type": "code",
   "execution_count": 1,
   "id": "1909ec61",
   "metadata": {},
   "outputs": [
    {
     "name": "stdout",
     "output_type": "stream",
     "text": [
      "Requirement already satisfied: kagglehub in c:\\users\\nongnam\\documents\\ai_builder\\.venv\\lib\\site-packages (0.3.12)\n",
      "Requirement already satisfied: packaging in c:\\users\\nongnam\\documents\\ai_builder\\.venv\\lib\\site-packages (from kagglehub) (24.2)\n",
      "Requirement already satisfied: pyyaml in c:\\users\\nongnam\\documents\\ai_builder\\.venv\\lib\\site-packages (from kagglehub) (6.0.2)\n",
      "Requirement already satisfied: requests in c:\\users\\nongnam\\documents\\ai_builder\\.venv\\lib\\site-packages (from kagglehub) (2.32.3)\n",
      "Requirement already satisfied: tqdm in c:\\users\\nongnam\\documents\\ai_builder\\.venv\\lib\\site-packages (from kagglehub) (4.67.1)\n",
      "Requirement already satisfied: charset-normalizer<4,>=2 in c:\\users\\nongnam\\documents\\ai_builder\\.venv\\lib\\site-packages (from requests->kagglehub) (3.4.1)\n",
      "Requirement already satisfied: idna<4,>=2.5 in c:\\users\\nongnam\\documents\\ai_builder\\.venv\\lib\\site-packages (from requests->kagglehub) (3.10)\n",
      "Requirement already satisfied: urllib3<3,>=1.21.1 in c:\\users\\nongnam\\documents\\ai_builder\\.venv\\lib\\site-packages (from requests->kagglehub) (2.4.0)\n",
      "Requirement already satisfied: certifi>=2017.4.17 in c:\\users\\nongnam\\documents\\ai_builder\\.venv\\lib\\site-packages (from requests->kagglehub) (2025.4.26)\n",
      "Requirement already satisfied: colorama in c:\\users\\nongnam\\documents\\ai_builder\\.venv\\lib\\site-packages (from tqdm->kagglehub) (0.4.6)\n",
      "Note: you may need to restart the kernel to use updated packages.\n"
     ]
    },
    {
     "name": "stderr",
     "output_type": "stream",
     "text": [
      "\n",
      "[notice] A new release of pip is available: 23.2.1 -> 25.1.1\n",
      "[notice] To update, run: python.exe -m pip install --upgrade pip\n"
     ]
    }
   ],
   "source": [
    "pip install kagglehub"
   ]
  },
  {
   "cell_type": "code",
   "execution_count": 2,
   "id": "44ab0388",
   "metadata": {},
   "outputs": [
    {
     "name": "stderr",
     "output_type": "stream",
     "text": [
      "c:\\Users\\NongNam\\Documents\\AI_Builder\\.venv\\Lib\\site-packages\\tqdm\\auto.py:21: TqdmWarning: IProgress not found. Please update jupyter and ipywidgets. See https://ipywidgets.readthedocs.io/en/stable/user_install.html\n",
      "  from .autonotebook import tqdm as notebook_tqdm\n"
     ]
    }
   ],
   "source": [
    "import kagglehub\n",
    "import numpy as np\n",
    "import pandas as pd\n",
    "from tensorflow.keras.preprocessing.sequence import pad_sequences\n",
    "from tensorflow.keras.models import load_model\n",
    "from sklearn.model_selection import train_test_split"
   ]
  },
  {
   "cell_type": "code",
   "execution_count": 3,
   "id": "756b0e69",
   "metadata": {},
   "outputs": [
    {
     "name": "stdout",
     "output_type": "stream",
     "text": [
      "Path to dataset files: C:\\Users\\NongNam\\.cache\\kagglehub\\datasets\\christang0002\\davis-and-kiba\\versions\\3\n"
     ]
    }
   ],
   "source": [
    "# Download latest version\n",
    "path = kagglehub.dataset_download(\"christang0002/davis-and-kiba\")\n",
    "\n",
    "print(\"Path to dataset files:\", path)"
   ]
  },
  {
   "cell_type": "code",
   "execution_count": 4,
   "id": "2f84f590",
   "metadata": {},
   "outputs": [
    {
     "ename": "AttributeError",
     "evalue": "module 'pandas' has no attribute 'read'",
     "output_type": "error",
     "traceback": [
      "\u001b[31m---------------------------------------------------------------------------\u001b[39m",
      "\u001b[31mAttributeError\u001b[39m                            Traceback (most recent call last)",
      "\u001b[36mCell\u001b[39m\u001b[36m \u001b[39m\u001b[32mIn[4]\u001b[39m\u001b[32m, line 1\u001b[39m\n\u001b[32m----> \u001b[39m\u001b[32m1\u001b[39m df = \u001b[43mpd\u001b[49m\u001b[43m.\u001b[49m\u001b[43mread\u001b[49m(\u001b[33m'\u001b[39m\u001b[33mdavis.txt\u001b[39m\u001b[33m'\u001b[39m, sep=\u001b[33m'\u001b[39m\u001b[38;5;130;01m\\t\u001b[39;00m\u001b[33m'\u001b[39m)\n\u001b[32m      2\u001b[39m train , test = train_test_split(df, test_size=\u001b[32m0.2\u001b[39m, random_state=\u001b[32m42\u001b[39m)\n\u001b[32m      4\u001b[39m train.to_csv(\u001b[33m'\u001b[39m\u001b[33mtrain.csv\u001b[39m\u001b[33m'\u001b[39m, index=\u001b[38;5;28;01mFalse\u001b[39;00m)\n",
      "\u001b[31mAttributeError\u001b[39m: module 'pandas' has no attribute 'read'"
     ]
    }
   ],
   "source": [
    "df = pd.read('davis.txt', sep='\\t')\n",
    "train , test = train_test_split(df, test_size=0.2, random_state=42)\n",
    "\n",
    "train.to_csv('train.csv', index=False)\n",
    "test.to_csv('test.csv', index=False)"
   ]
  },
  {
   "cell_type": "code",
   "execution_count": null,
   "id": "45d13a9c",
   "metadata": {},
   "outputs": [
    {
     "data": {
      "text/html": [
       "<div>\n",
       "<style scoped>\n",
       "    .dataframe tbody tr th:only-of-type {\n",
       "        vertical-align: middle;\n",
       "    }\n",
       "\n",
       "    .dataframe tbody tr th {\n",
       "        vertical-align: top;\n",
       "    }\n",
       "\n",
       "    .dataframe thead th {\n",
       "        text-align: right;\n",
       "    }\n",
       "</style>\n",
       "<table border=\"1\" class=\"dataframe\">\n",
       "  <thead>\n",
       "    <tr style=\"text-align: right;\">\n",
       "      <th></th>\n",
       "      <th>drug_id</th>\n",
       "      <th>prot_id</th>\n",
       "      <th>drug_smile</th>\n",
       "      <th>prot_seq</th>\n",
       "      <th>label</th>\n",
       "    </tr>\n",
       "  </thead>\n",
       "  <tbody>\n",
       "    <tr>\n",
       "      <th>0</th>\n",
       "      <td>16722836</td>\n",
       "      <td>ARK5</td>\n",
       "      <td>CC1=CN=C(N=C1NC2=CC(=CC=C2)S(=O)(=O)NC(C)(C)C)...</td>\n",
       "      <td>MEGAAAPVAGDRPDLGLGAPGSPREAVAGATAALEPRKPHGVKRHH...</td>\n",
       "      <td>7.468521</td>\n",
       "    </tr>\n",
       "    <tr>\n",
       "      <th>1</th>\n",
       "      <td>4908365</td>\n",
       "      <td>PIK3CA(E545A)</td>\n",
       "      <td>CN1CCN(CC1)C(=O)C2=CC3=C(N2)C=CC(=C3)Cl</td>\n",
       "      <td>TMPPRPSSGELWGIHLMPPRILVECLLPNGMIVTLECLREATLITI...</td>\n",
       "      <td>5.000000</td>\n",
       "    </tr>\n",
       "    <tr>\n",
       "      <th>2</th>\n",
       "      <td>5291</td>\n",
       "      <td>RIPK5</td>\n",
       "      <td>CC1=C(C=C(C=C1)NC(=O)C2=CC=C(C=C2)CN3CCN(CC3)C...</td>\n",
       "      <td>MEGDGVPWGSEPVSGPGPGGGGMIRELCRGFGRYRRYLGRLRQNLR...</td>\n",
       "      <td>5.000000</td>\n",
       "    </tr>\n",
       "    <tr>\n",
       "      <th>3</th>\n",
       "      <td>5328940</td>\n",
       "      <td>FLT3(D835H)</td>\n",
       "      <td>CN1CCN(CC1)CCCOC2=C(C=C3C(=C2)N=CC(=C3NC4=CC(=...</td>\n",
       "      <td>MPALARDGGQLPLLVVFSAMIFGTITNQDLPVIKCVLINHKNNDSS...</td>\n",
       "      <td>6.000000</td>\n",
       "    </tr>\n",
       "    <tr>\n",
       "      <th>4</th>\n",
       "      <td>24779724</td>\n",
       "      <td>PIP5K2C</td>\n",
       "      <td>CN1C=C(C=N1)C2=NN3C(=NN=C3SC4=CC5=C(C=C4)N=CC=...</td>\n",
       "      <td>MASSSVPPATVSAATAGPGPGFGFASKTKKKHFVQQKVKVFRAADP...</td>\n",
       "      <td>5.481486</td>\n",
       "    </tr>\n",
       "  </tbody>\n",
       "</table>\n",
       "</div>"
      ],
      "text/plain": [
       "    drug_id        prot_id                                         drug_smile  \\\n",
       "0  16722836           ARK5  CC1=CN=C(N=C1NC2=CC(=CC=C2)S(=O)(=O)NC(C)(C)C)...   \n",
       "1   4908365  PIK3CA(E545A)            CN1CCN(CC1)C(=O)C2=CC3=C(N2)C=CC(=C3)Cl   \n",
       "2      5291          RIPK5  CC1=C(C=C(C=C1)NC(=O)C2=CC=C(C=C2)CN3CCN(CC3)C...   \n",
       "3   5328940    FLT3(D835H)  CN1CCN(CC1)CCCOC2=C(C=C3C(=C2)N=CC(=C3NC4=CC(=...   \n",
       "4  24779724        PIP5K2C  CN1C=C(C=N1)C2=NN3C(=NN=C3SC4=CC5=C(C=C4)N=CC=...   \n",
       "\n",
       "                                            prot_seq     label  \n",
       "0  MEGAAAPVAGDRPDLGLGAPGSPREAVAGATAALEPRKPHGVKRHH...  7.468521  \n",
       "1  TMPPRPSSGELWGIHLMPPRILVECLLPNGMIVTLECLREATLITI...  5.000000  \n",
       "2  MEGDGVPWGSEPVSGPGPGGGGMIRELCRGFGRYRRYLGRLRQNLR...  5.000000  \n",
       "3  MPALARDGGQLPLLVVFSAMIFGTITNQDLPVIKCVLINHKNNDSS...  6.000000  \n",
       "4  MASSSVPPATVSAATAGPGPGFGFASKTKKKHFVQQKVKVFRAADP...  5.481486  "
      ]
     },
     "execution_count": 17,
     "metadata": {},
     "output_type": "execute_result"
    }
   ],
   "source": [
    "df = pd.read_csv('test.csv')\n",
    "\n",
    "df.columns  = ['drug_id', 'prot_id', 'drug_smile', 'prot_seq', 'label']\n",
    "df.head()"
   ]
  },
  {
   "cell_type": "code",
   "execution_count": null,
   "id": "f48a4916",
   "metadata": {},
   "outputs": [],
   "source": [
    "df = df.drop(columns=['drug_id', 'prot_id'])\n",
    "df = df.rename(columns={'label' : 'Kd','drug_smile' : 'SMILES', 'prot_seq' : 'target_sequence'})"
   ]
  },
  {
   "cell_type": "code",
   "execution_count": null,
   "id": "daab9a78",
   "metadata": {},
   "outputs": [
    {
     "data": {
      "text/html": [
       "<div>\n",
       "<style scoped>\n",
       "    .dataframe tbody tr th:only-of-type {\n",
       "        vertical-align: middle;\n",
       "    }\n",
       "\n",
       "    .dataframe tbody tr th {\n",
       "        vertical-align: top;\n",
       "    }\n",
       "\n",
       "    .dataframe thead th {\n",
       "        text-align: right;\n",
       "    }\n",
       "</style>\n",
       "<table border=\"1\" class=\"dataframe\">\n",
       "  <thead>\n",
       "    <tr style=\"text-align: right;\">\n",
       "      <th></th>\n",
       "      <th>SMILES</th>\n",
       "      <th>target_sequence</th>\n",
       "      <th>Kd</th>\n",
       "    </tr>\n",
       "  </thead>\n",
       "  <tbody>\n",
       "    <tr>\n",
       "      <th>0</th>\n",
       "      <td>CC1=CN=C(N=C1NC2=CC(=CC=C2)S(=O)(=O)NC(C)(C)C)...</td>\n",
       "      <td>MEGAAAPVAGDRPDLGLGAPGSPREAVAGATAALEPRKPHGVKRHH...</td>\n",
       "      <td>7.468521</td>\n",
       "    </tr>\n",
       "    <tr>\n",
       "      <th>1</th>\n",
       "      <td>CN1CCN(CC1)C(=O)C2=CC3=C(N2)C=CC(=C3)Cl</td>\n",
       "      <td>TMPPRPSSGELWGIHLMPPRILVECLLPNGMIVTLECLREATLITI...</td>\n",
       "      <td>5.000000</td>\n",
       "    </tr>\n",
       "    <tr>\n",
       "      <th>2</th>\n",
       "      <td>CC1=C(C=C(C=C1)NC(=O)C2=CC=C(C=C2)CN3CCN(CC3)C...</td>\n",
       "      <td>MEGDGVPWGSEPVSGPGPGGGGMIRELCRGFGRYRRYLGRLRQNLR...</td>\n",
       "      <td>5.000000</td>\n",
       "    </tr>\n",
       "    <tr>\n",
       "      <th>3</th>\n",
       "      <td>CN1CCN(CC1)CCCOC2=C(C=C3C(=C2)N=CC(=C3NC4=CC(=...</td>\n",
       "      <td>MPALARDGGQLPLLVVFSAMIFGTITNQDLPVIKCVLINHKNNDSS...</td>\n",
       "      <td>6.000000</td>\n",
       "    </tr>\n",
       "    <tr>\n",
       "      <th>4</th>\n",
       "      <td>CN1C=C(C=N1)C2=NN3C(=NN=C3SC4=CC5=C(C=C4)N=CC=...</td>\n",
       "      <td>MASSSVPPATVSAATAGPGPGFGFASKTKKKHFVQQKVKVFRAADP...</td>\n",
       "      <td>5.481486</td>\n",
       "    </tr>\n",
       "  </tbody>\n",
       "</table>\n",
       "</div>"
      ],
      "text/plain": [
       "                                              SMILES  \\\n",
       "0  CC1=CN=C(N=C1NC2=CC(=CC=C2)S(=O)(=O)NC(C)(C)C)...   \n",
       "1            CN1CCN(CC1)C(=O)C2=CC3=C(N2)C=CC(=C3)Cl   \n",
       "2  CC1=C(C=C(C=C1)NC(=O)C2=CC=C(C=C2)CN3CCN(CC3)C...   \n",
       "3  CN1CCN(CC1)CCCOC2=C(C=C3C(=C2)N=CC(=C3NC4=CC(=...   \n",
       "4  CN1C=C(C=N1)C2=NN3C(=NN=C3SC4=CC5=C(C=C4)N=CC=...   \n",
       "\n",
       "                                     target_sequence        Kd  \n",
       "0  MEGAAAPVAGDRPDLGLGAPGSPREAVAGATAALEPRKPHGVKRHH...  7.468521  \n",
       "1  TMPPRPSSGELWGIHLMPPRILVECLLPNGMIVTLECLREATLITI...  5.000000  \n",
       "2  MEGDGVPWGSEPVSGPGPGGGGMIRELCRGFGRYRRYLGRLRQNLR...  5.000000  \n",
       "3  MPALARDGGQLPLLVVFSAMIFGTITNQDLPVIKCVLINHKNNDSS...  6.000000  \n",
       "4  MASSSVPPATVSAATAGPGPGFGFASKTKKKHFVQQKVKVFRAADP...  5.481486  "
      ]
     },
     "execution_count": 19,
     "metadata": {},
     "output_type": "execute_result"
    }
   ],
   "source": [
    "df.head()"
   ]
  },
  {
   "cell_type": "code",
   "execution_count": null,
   "id": "14f86a2a",
   "metadata": {},
   "outputs": [
    {
     "data": {
      "text/plain": [
       "SMILES             0\n",
       "target_sequence    0\n",
       "Kd                 0\n",
       "dtype: int64"
      ]
     },
     "execution_count": 20,
     "metadata": {},
     "output_type": "execute_result"
    }
   ],
   "source": [
    "df.isna().sum()"
   ]
  },
  {
   "cell_type": "code",
   "execution_count": null,
   "id": "84f19b9c",
   "metadata": {},
   "outputs": [],
   "source": [
    "# 3. Encode SMILES\n",
    "smiles_chars = sorted(set(''.join(df['SMILES'])))\n",
    "char_to_int_smiles = {c: i + 1 for i, c in enumerate(smiles_chars)}\n",
    "\n",
    "def encode_smiles(smiles):\n",
    "    return [char_to_int_smiles[c] for c in smiles]\n",
    "\n",
    "df['smiles_encoded'] = df['SMILES'].apply(encode_smiles)\n",
    "\n",
    "# 4. Encode protein sequences\n",
    "aa_list = 'ACDEFGHIKLMNPQRSTVWY'\n",
    "aa_to_int = {aa: i + 1 for i, aa in enumerate(aa_list)}\n",
    "\n",
    "def encode_protein(seq):\n",
    "    return [aa_to_int.get(aa, 0) for aa in seq]\n",
    "\n",
    "df['protein_encoded'] = df['target_sequence'].apply(encode_protein)"
   ]
  },
  {
   "cell_type": "code",
   "execution_count": null,
   "id": "431a42a6",
   "metadata": {},
   "outputs": [],
   "source": [
    "max_len_smiles = 100\n",
    "max_len_protein = 1000\n",
    "\n",
    "X_smiles = pad_sequences(df['smiles_encoded'], maxlen=max_len_smiles, padding='post')\n",
    "X_protein = pad_sequences(df['protein_encoded'], maxlen=max_len_protein, padding='post')\n",
    "y = df['Kd'].values"
   ]
  },
  {
   "cell_type": "code",
   "execution_count": null,
   "id": "05abedce",
   "metadata": {},
   "outputs": [],
   "source": [
    "# First split into train + test\n",
    "X_s_train, X_s_val, X_p_train, X_p_val, y_train, y_val = train_test_split(\n",
    "    X_smiles, X_protein, y, test_size=0.2, random_state=42\n",
    ")\n"
   ]
  },
  {
   "cell_type": "code",
   "execution_count": null,
   "id": "30f5abf4",
   "metadata": {},
   "outputs": [
    {
     "data": {
      "text/plain": [
       "(4809, 1203)"
      ]
     },
     "execution_count": 24,
     "metadata": {},
     "output_type": "execute_result"
    }
   ],
   "source": [
    "len(X_s_train), len(X_s_val)"
   ]
  },
  {
   "cell_type": "code",
   "execution_count": null,
   "id": "c46f5a03",
   "metadata": {},
   "outputs": [
    {
     "name": "stderr",
     "output_type": "stream",
     "text": [
      "WARNING:absl:Compiled the loaded model, but the compiled metrics have yet to be built. `model.compile_metrics` will be empty until you train or evaluate the model.\n"
     ]
    },
    {
     "name": "stdout",
     "output_type": "stream",
     "text": [
      "Epoch 1/50\n",
      "\u001b[1m151/151\u001b[0m \u001b[32m━━━━━━━━━━━━━━━━━━━━\u001b[0m\u001b[37m\u001b[0m \u001b[1m54s\u001b[0m 334ms/step - loss: 0.7048 - mae: 0.5494 - val_loss: 0.6260 - val_mae: 0.4407\n",
      "Epoch 2/50\n",
      "\u001b[1m151/151\u001b[0m \u001b[32m━━━━━━━━━━━━━━━━━━━━\u001b[0m\u001b[37m\u001b[0m \u001b[1m48s\u001b[0m 318ms/step - loss: 0.5716 - mae: 0.4926 - val_loss: 0.4814 - val_mae: 0.3951\n",
      "Epoch 3/50\n",
      "\u001b[1m151/151\u001b[0m \u001b[32m━━━━━━━━━━━━━━━━━━━━\u001b[0m\u001b[37m\u001b[0m \u001b[1m54s\u001b[0m 355ms/step - loss: 0.4884 - mae: 0.4165 - val_loss: 0.5100 - val_mae: 0.3926\n",
      "Epoch 4/50\n",
      "\u001b[1m151/151\u001b[0m \u001b[32m━━━━━━━━━━━━━━━━━━━━\u001b[0m\u001b[37m\u001b[0m \u001b[1m52s\u001b[0m 342ms/step - loss: 0.4628 - mae: 0.4139 - val_loss: 0.4480 - val_mae: 0.3829\n",
      "Epoch 5/50\n",
      "\u001b[1m151/151\u001b[0m \u001b[32m━━━━━━━━━━━━━━━━━━━━\u001b[0m\u001b[37m\u001b[0m \u001b[1m51s\u001b[0m 339ms/step - loss: 0.4250 - mae: 0.4035 - val_loss: 0.4249 - val_mae: 0.3912\n",
      "Epoch 6/50\n",
      "\u001b[1m151/151\u001b[0m \u001b[32m━━━━━━━━━━━━━━━━━━━━\u001b[0m\u001b[37m\u001b[0m \u001b[1m52s\u001b[0m 342ms/step - loss: 0.3929 - mae: 0.3812 - val_loss: 0.4266 - val_mae: 0.3744\n",
      "Epoch 7/50\n",
      "\u001b[1m151/151\u001b[0m \u001b[32m━━━━━━━━━━━━━━━━━━━━\u001b[0m\u001b[37m\u001b[0m \u001b[1m52s\u001b[0m 344ms/step - loss: 0.4213 - mae: 0.3911 - val_loss: 0.4426 - val_mae: 0.3648\n",
      "Epoch 8/50\n",
      "\u001b[1m151/151\u001b[0m \u001b[32m━━━━━━━━━━━━━━━━━━━━\u001b[0m\u001b[37m\u001b[0m \u001b[1m52s\u001b[0m 341ms/step - loss: 0.3956 - mae: 0.3787 - val_loss: 0.4152 - val_mae: 0.3643\n",
      "Epoch 9/50\n",
      "\u001b[1m151/151\u001b[0m \u001b[32m━━━━━━━━━━━━━━━━━━━━\u001b[0m\u001b[37m\u001b[0m \u001b[1m52s\u001b[0m 346ms/step - loss: 0.4120 - mae: 0.3776 - val_loss: 0.4180 - val_mae: 0.3625\n",
      "Epoch 10/50\n",
      "\u001b[1m151/151\u001b[0m \u001b[32m━━━━━━━━━━━━━━━━━━━━\u001b[0m\u001b[37m\u001b[0m \u001b[1m52s\u001b[0m 343ms/step - loss: 0.3631 - mae: 0.3676 - val_loss: 0.4035 - val_mae: 0.3626\n",
      "Epoch 11/50\n",
      "\u001b[1m151/151\u001b[0m \u001b[32m━━━━━━━━━━━━━━━━━━━━\u001b[0m\u001b[37m\u001b[0m \u001b[1m52s\u001b[0m 341ms/step - loss: 0.3665 - mae: 0.3687 - val_loss: 0.4295 - val_mae: 0.3527\n",
      "Epoch 12/50\n",
      "\u001b[1m151/151\u001b[0m \u001b[32m━━━━━━━━━━━━━━━━━━━━\u001b[0m\u001b[37m\u001b[0m \u001b[1m52s\u001b[0m 343ms/step - loss: 0.3625 - mae: 0.3652 - val_loss: 0.3948 - val_mae: 0.3580\n",
      "Epoch 13/50\n",
      "\u001b[1m151/151\u001b[0m \u001b[32m━━━━━━━━━━━━━━━━━━━━\u001b[0m\u001b[37m\u001b[0m \u001b[1m52s\u001b[0m 343ms/step - loss: 0.3409 - mae: 0.3502 - val_loss: 0.3939 - val_mae: 0.3489\n",
      "Epoch 14/50\n",
      "\u001b[1m151/151\u001b[0m \u001b[32m━━━━━━━━━━━━━━━━━━━━\u001b[0m\u001b[37m\u001b[0m \u001b[1m51s\u001b[0m 340ms/step - loss: 0.3304 - mae: 0.3386 - val_loss: 0.4034 - val_mae: 0.3552\n",
      "Epoch 15/50\n",
      "\u001b[1m151/151\u001b[0m \u001b[32m━━━━━━━━━━━━━━━━━━━━\u001b[0m\u001b[37m\u001b[0m \u001b[1m52s\u001b[0m 344ms/step - loss: 0.3338 - mae: 0.3519 - val_loss: 0.3954 - val_mae: 0.3627\n",
      "Epoch 16/50\n",
      "\u001b[1m151/151\u001b[0m \u001b[32m━━━━━━━━━━━━━━━━━━━━\u001b[0m\u001b[37m\u001b[0m \u001b[1m52s\u001b[0m 343ms/step - loss: 0.3278 - mae: 0.3427 - val_loss: 0.3770 - val_mae: 0.3604\n",
      "Epoch 17/50\n",
      "\u001b[1m151/151\u001b[0m \u001b[32m━━━━━━━━━━━━━━━━━━━━\u001b[0m\u001b[37m\u001b[0m \u001b[1m52s\u001b[0m 342ms/step - loss: 0.3513 - mae: 0.3600 - val_loss: 0.3955 - val_mae: 0.3523\n",
      "Epoch 18/50\n",
      "\u001b[1m151/151\u001b[0m \u001b[32m━━━━━━━━━━━━━━━━━━━━\u001b[0m\u001b[37m\u001b[0m \u001b[1m52s\u001b[0m 346ms/step - loss: 0.3606 - mae: 0.3667 - val_loss: 0.3864 - val_mae: 0.3454\n",
      "Epoch 19/50\n",
      "\u001b[1m151/151\u001b[0m \u001b[32m━━━━━━━━━━━━━━━━━━━━\u001b[0m\u001b[37m\u001b[0m \u001b[1m52s\u001b[0m 342ms/step - loss: 0.3493 - mae: 0.3475 - val_loss: 0.4048 - val_mae: 0.3558\n",
      "Epoch 20/50\n",
      "\u001b[1m151/151\u001b[0m \u001b[32m━━━━━━━━━━━━━━━━━━━━\u001b[0m\u001b[37m\u001b[0m \u001b[1m52s\u001b[0m 342ms/step - loss: 0.3307 - mae: 0.3379 - val_loss: 0.3913 - val_mae: 0.3582\n",
      "Epoch 21/50\n",
      "\u001b[1m151/151\u001b[0m \u001b[32m━━━━━━━━━━━━━━━━━━━━\u001b[0m\u001b[37m\u001b[0m \u001b[1m52s\u001b[0m 343ms/step - loss: 0.3146 - mae: 0.3403 - val_loss: 0.3893 - val_mae: 0.3605\n"
     ]
    }
   ],
   "source": [
    "from tensorflow.keras.models import load_model\n",
    "from tensorflow.keras.callbacks import EarlyStopping\n",
    "\n",
    "model = load_model(\"model_epoch_94.h5\")\n",
    "\n",
    "# Recompile before training again\n",
    "model.compile(optimizer='adam', loss='mse', metrics=['mae'])\n",
    "\n",
    "# Fine-tune the model\n",
    "history = model.fit(\n",
    "    [X_s_train, X_p_train], y_train,\n",
    "    validation_data=([X_s_val, X_p_val], y_val),\n",
    "    epochs=50,\n",
    "    batch_size=32,\n",
    ")"
   ]
  },
  {
   "cell_type": "code",
   "execution_count": null,
   "id": "1bba94bc",
   "metadata": {},
   "outputs": [
    {
     "name": "stderr",
     "output_type": "stream",
     "text": [
      "WARNING:absl:You are saving your model as an HDF5 file via `model.save()` or `keras.saving.save_model(model)`. This file format is considered legacy. We recommend using instead the native Keras format, e.g. `model.save('my_model.keras')` or `keras.saving.save_model(model, 'my_model.keras')`. \n"
     ]
    }
   ],
   "source": [
    "model.save(\"model_finetuned.h5\")"
   ]
  },
  {
   "cell_type": "code",
   "execution_count": null,
   "id": "c9269e42",
   "metadata": {},
   "outputs": [],
   "source": [
    "test = pd.read_csv('test.csv')\n",
    "test.columns = ['drug_id', 'prot_id', 'drug_smile', 'prot_seq','label']\n",
    "\n",
    "\n",
    "test = test.drop(columns=['drug_id', 'prot_id'])\n",
    "test = test.rename(columns={'label' : 'Kd','drug_smile' : 'SMILES', 'prot_seq' : 'target_sequence'})"
   ]
  },
  {
   "cell_type": "code",
   "execution_count": null,
   "id": "a44c2d3e",
   "metadata": {},
   "outputs": [],
   "source": [
    "# 3. Encode SMILES\n",
    "smiles_chars = sorted(set(''.join(test['SMILES'])))\n",
    "char_to_int_smiles = {c: i + 1 for i, c in enumerate(smiles_chars)}\n",
    "\n",
    "def encode_smiles(smiles):\n",
    "    return [char_to_int_smiles[c] for c in smiles]\n",
    "\n",
    "test['smiles_encoded'] = test['SMILES'].apply(encode_smiles)\n",
    "\n",
    "# 4. Encode protein sequences\n",
    "aa_list = 'ACDEFGHIKLMNPQRSTVWY'\n",
    "aa_to_int = {aa: i + 1 for i, aa in enumerate(aa_list)}\n",
    "\n",
    "def encode_protein(seq):\n",
    "    return [aa_to_int.get(aa, 0) for aa in seq]\n",
    "\n",
    "test['protein_encoded'] = test['target_sequence'].apply(encode_protein)"
   ]
  },
  {
   "cell_type": "code",
   "execution_count": null,
   "id": "c2842de1",
   "metadata": {},
   "outputs": [],
   "source": [
    "max_len_smiles = 100\n",
    "max_len_protein = 1000\n",
    "\n",
    "x_smiles = pad_sequences(test['smiles_encoded'], maxlen=max_len_smiles, padding='post')\n",
    "x_protein = pad_sequences(test['protein_encoded'], maxlen=max_len_protein, padding='post')\n",
    "y = test['Kd'].values"
   ]
  },
  {
   "cell_type": "code",
   "execution_count": null,
   "id": "3ed0af3f",
   "metadata": {},
   "outputs": [],
   "source": [
    "model = load_model(\"model_finetuned.h5\", compile=False)\n",
    "model.compile(optimizer='adam', loss='mse', metrics=['mae'])"
   ]
  },
  {
   "cell_type": "code",
   "execution_count": null,
   "id": "076b5195",
   "metadata": {},
   "outputs": [
    {
     "name": "stdout",
     "output_type": "stream",
     "text": [
      "\u001b[1m188/188\u001b[0m \u001b[32m━━━━━━━━━━━━━━━━━━━━\u001b[0m\u001b[37m\u001b[0m \u001b[1m16s\u001b[0m 84ms/step - loss: 0.2639 - mae: 0.3046\n",
      "Test MSE: 0.3062\n"
     ]
    }
   ],
   "source": [
    "loss, mse = model.evaluate([x_smiles, x_protein], y)\n",
    "print(f\"Test MSE: {mse:.4f}\")"
   ]
  }
 ],
 "metadata": {
  "kernelspec": {
   "display_name": ".venv",
   "language": "python",
   "name": "python3"
  },
  "language_info": {
   "codemirror_mode": {
    "name": "ipython",
    "version": 3
   },
   "file_extension": ".py",
   "mimetype": "text/x-python",
   "name": "python",
   "nbconvert_exporter": "python",
   "pygments_lexer": "ipython3",
   "version": "3.11.7"
  }
 },
 "nbformat": 4,
 "nbformat_minor": 5
}
