{
 "cells": [
  {
   "cell_type": "code",
   "execution_count": 14,
   "id": "c4f13567",
   "metadata": {},
   "outputs": [],
   "source": [
    "from xgboost import XGBRegressor\n",
    "import pandas as pd\n",
    "from sklearn.model_selection import train_test_split\n",
    "from sklearn.ensemble import RandomForestRegressor\n",
    "from sklearn.metrics import mean_squared_error\n",
    "from sklearn.preprocessing import StandardScaler\n",
    "from sklearn.pipeline import Pipeline\n",
    "import joblib"
   ]
  },
  {
   "cell_type": "code",
   "execution_count": 15,
   "id": "200c2885",
   "metadata": {},
   "outputs": [],
   "source": [
    "# Load your dataset\n",
    "df = pd.read_csv(\"descriptor.csv\")  # Adjust path"
   ]
  },
  {
   "cell_type": "code",
   "execution_count": 16,
   "id": "072f9a0d",
   "metadata": {},
   "outputs": [
    {
     "data": {
      "text/html": [
       "<div>\n",
       "<style scoped>\n",
       "    .dataframe tbody tr th:only-of-type {\n",
       "        vertical-align: middle;\n",
       "    }\n",
       "\n",
       "    .dataframe tbody tr th {\n",
       "        vertical-align: top;\n",
       "    }\n",
       "\n",
       "    .dataframe thead th {\n",
       "        text-align: right;\n",
       "    }\n",
       "</style>\n",
       "<table border=\"1\" class=\"dataframe\">\n",
       "  <thead>\n",
       "    <tr style=\"text-align: right;\">\n",
       "      <th></th>\n",
       "      <th>MolWt</th>\n",
       "      <th>LogP</th>\n",
       "      <th>RotatableBonds</th>\n",
       "      <th>HDonors</th>\n",
       "      <th>HAcceptors</th>\n",
       "      <th>Prot_MW</th>\n",
       "      <th>Aromaticity</th>\n",
       "      <th>Instability</th>\n",
       "      <th>Hydropathy</th>\n",
       "      <th>Kd</th>\n",
       "    </tr>\n",
       "  </thead>\n",
       "  <tbody>\n",
       "    <tr>\n",
       "      <th>0</th>\n",
       "      <td>541.461</td>\n",
       "      <td>5.10998</td>\n",
       "      <td>8</td>\n",
       "      <td>1</td>\n",
       "      <td>8</td>\n",
       "      <td>112902.2098</td>\n",
       "      <td>0.114804</td>\n",
       "      <td>50.310725</td>\n",
       "      <td>-0.242095</td>\n",
       "      <td>8.301030</td>\n",
       "    </tr>\n",
       "    <tr>\n",
       "      <th>1</th>\n",
       "      <td>602.022</td>\n",
       "      <td>4.67500</td>\n",
       "      <td>10</td>\n",
       "      <td>2</td>\n",
       "      <td>7</td>\n",
       "      <td>58194.7117</td>\n",
       "      <td>0.071429</td>\n",
       "      <td>52.925502</td>\n",
       "      <td>-0.512741</td>\n",
       "      <td>7.795880</td>\n",
       "    </tr>\n",
       "    <tr>\n",
       "      <th>2</th>\n",
       "      <td>228.247</td>\n",
       "      <td>2.97380</td>\n",
       "      <td>2</td>\n",
       "      <td>3</td>\n",
       "      <td>3</td>\n",
       "      <td>18402.3351</td>\n",
       "      <td>0.074534</td>\n",
       "      <td>33.732298</td>\n",
       "      <td>-0.610559</td>\n",
       "      <td>3.614394</td>\n",
       "    </tr>\n",
       "    <tr>\n",
       "      <th>3</th>\n",
       "      <td>386.412</td>\n",
       "      <td>-0.05948</td>\n",
       "      <td>5</td>\n",
       "      <td>5</td>\n",
       "      <td>10</td>\n",
       "      <td>70897.2343</td>\n",
       "      <td>0.063467</td>\n",
       "      <td>36.887492</td>\n",
       "      <td>-0.456037</td>\n",
       "      <td>6.530178</td>\n",
       "    </tr>\n",
       "    <tr>\n",
       "      <th>4</th>\n",
       "      <td>205.257</td>\n",
       "      <td>2.59470</td>\n",
       "      <td>5</td>\n",
       "      <td>0</td>\n",
       "      <td>3</td>\n",
       "      <td>56848.2407</td>\n",
       "      <td>0.113590</td>\n",
       "      <td>33.652941</td>\n",
       "      <td>-0.199189</td>\n",
       "      <td>5.886057</td>\n",
       "    </tr>\n",
       "  </tbody>\n",
       "</table>\n",
       "</div>"
      ],
      "text/plain": [
       "     MolWt     LogP  RotatableBonds  HDonors  HAcceptors      Prot_MW  \\\n",
       "0  541.461  5.10998               8        1           8  112902.2098   \n",
       "1  602.022  4.67500              10        2           7   58194.7117   \n",
       "2  228.247  2.97380               2        3           3   18402.3351   \n",
       "3  386.412 -0.05948               5        5          10   70897.2343   \n",
       "4  205.257  2.59470               5        0           3   56848.2407   \n",
       "\n",
       "   Aromaticity  Instability  Hydropathy        Kd  \n",
       "0     0.114804    50.310725   -0.242095  8.301030  \n",
       "1     0.071429    52.925502   -0.512741  7.795880  \n",
       "2     0.074534    33.732298   -0.610559  3.614394  \n",
       "3     0.063467    36.887492   -0.456037  6.530178  \n",
       "4     0.113590    33.652941   -0.199189  5.886057  "
      ]
     },
     "execution_count": 16,
     "metadata": {},
     "output_type": "execute_result"
    }
   ],
   "source": [
    "df.head()"
   ]
  },
  {
   "cell_type": "code",
   "execution_count": 17,
   "id": "3b562280",
   "metadata": {},
   "outputs": [],
   "source": [
    "# Feature and target selection\n",
    "features = ['MolWt', 'LogP', 'RotatableBonds', 'HDonors', 'HAcceptors',\n",
    "            'Prot_MW', 'Aromaticity', 'Instability', 'Hydropathy']\n",
    "target = 'Kd'\n",
    "\n",
    "X = df[features]\n",
    "y = df[target]"
   ]
  },
  {
   "cell_type": "code",
   "execution_count": 18,
   "id": "c7941d4c",
   "metadata": {},
   "outputs": [],
   "source": [
    "# Split dataset\n",
    "X_train, X_val, y_train, y_val = train_test_split(X, y, test_size=0.1, random_state=42)"
   ]
  },
  {
   "cell_type": "code",
   "execution_count": 19,
   "id": "567b53b3",
   "metadata": {},
   "outputs": [],
   "source": [
    "xgb_pipeline = Pipeline([\n",
    "    ('scaler', StandardScaler()),\n",
    "    ('xgb', XGBRegressor(n_estimators=100, learning_rate=0.1, max_depth=6, verbosity=0, random_state=42))\n",
    "])"
   ]
  },
  {
   "cell_type": "code",
   "execution_count": 20,
   "id": "9f92f7a4",
   "metadata": {},
   "outputs": [],
   "source": [
    "xgb_pipeline.fit(X_train, y_train)\n",
    "xgb_preds = xgb_pipeline.predict(X_val)"
   ]
  },
  {
   "cell_type": "code",
   "execution_count": 21,
   "id": "984b6d44",
   "metadata": {},
   "outputs": [
    {
     "name": "stdout",
     "output_type": "stream",
     "text": [
      "Baseline XGBoost MSE: 1.4993\n"
     ]
    }
   ],
   "source": [
    "xgb_mse = mean_squared_error(y_val, xgb_preds)\n",
    "print(f\"Baseline XGBoost MSE: {xgb_mse:.4f}\")"
   ]
  },
  {
   "cell_type": "code",
   "execution_count": 22,
   "id": "db4c8f62",
   "metadata": {},
   "outputs": [
    {
     "data": {
      "text/plain": [
       "['baseline_xgb_model.pkl']"
      ]
     },
     "execution_count": 22,
     "metadata": {},
     "output_type": "execute_result"
    }
   ],
   "source": [
    "joblib.dump(xgb_pipeline, \"baseline_xgb_model.pkl\")"
   ]
  },
  {
   "cell_type": "code",
   "execution_count": 23,
   "id": "ea754fe4",
   "metadata": {},
   "outputs": [
    {
     "name": "stdout",
     "output_type": "stream",
     "text": [
      "Mean Squared Error: 1.5251\n",
      "Mean Absolute Error: 0.9465\n",
      "Root Mean Squared Error: 1.2349\n"
     ]
    }
   ],
   "source": [
    "test_df = pd.read_csv(\"descriptor_test.csv\")\n",
    "x_test = test_df.drop(\"Kd\", axis=1)\n",
    "y_test = test_df['Kd']\n",
    "\n",
    "model = joblib.load(\"baseline_xgb_model.pkl\")\n",
    "y_pred = model.predict(x_test)\n",
    "\n",
    "from sklearn.metrics import mean_squared_error, mean_absolute_error , root_mean_squared_error\n",
    "\n",
    "mse = mean_squared_error(y_test, y_pred)\n",
    "mae = mean_absolute_error(y_test, y_pred)\n",
    "rmse = root_mean_squared_error(y_test, y_pred)\n",
    "\n",
    "print(f\"Mean Squared Error: {mse:.4f}\")\n",
    "print(f\"Mean Absolute Error: {mae:.4f}\")\n",
    "print(f\"Root Mean Squared Error: {rmse:.4f}\")"
   ]
  },
  {
   "cell_type": "code",
   "execution_count": 24,
   "id": "325d00ef",
   "metadata": {},
   "outputs": [
    {
     "name": "stderr",
     "output_type": "stream",
     "text": [
      "C:\\Users\\NongNam\\AppData\\Local\\Temp\\ipykernel_18492\\897430231.py:6: FutureWarning: \n",
      "\n",
      "`shade` is now deprecated in favor of `fill`; setting `fill=True`.\n",
      "This will become an error in seaborn v0.14.0; please update your code.\n",
      "\n",
      "  sns.kdeplot(y_test, label=\"True Kd\", shade=True)\n",
      "C:\\Users\\NongNam\\AppData\\Local\\Temp\\ipykernel_18492\\897430231.py:7: FutureWarning: \n",
      "\n",
      "`shade` is now deprecated in favor of `fill`; setting `fill=True`.\n",
      "This will become an error in seaborn v0.14.0; please update your code.\n",
      "\n",
      "  sns.kdeplot(y_pred, label=\"Predicted Kd\", shade=True)\n"
     ]
    },
    {
     "data": {
      "image/png": "[encoded data removed]",
      "text/plain": [
       "<Figure size 1000x600 with 1 Axes>"
      ]
     },
     "metadata": {},
     "output_type": "display_data"
    }
   ],
   "source": [
    "import matplotlib.pyplot as plt\n",
    "import seaborn as sns\n",
    "\n",
    "# Plot real vs predicted distribution\n",
    "plt.figure(figsize=(10, 6))\n",
    "sns.kdeplot(y_test, label=\"True Kd\", shade=True)\n",
    "sns.kdeplot(y_pred, label=\"Predicted Kd\", shade=True)\n",
    "plt.title(\"Distribution of True vs Predicted Kd\")\n",
    "plt.xlabel(\"Kd\")\n",
    "plt.ylabel(\"Density\")\n",
    "plt.legend()\n",
    "plt.tight_layout()\n",
    "plt.show()"
   ]
  }
 ],
 "metadata": {
  "kernelspec": {
   "display_name": ".venv",
   "language": "python",
   "name": "python3"
  },
  "language_info": {
   "codemirror_mode": {
    "name": "ipython",
    "version": 3
   },
   "file_extension": ".py",
   "mimetype": "text/x-python",
   "name": "python",
   "nbconvert_exporter": "python",
   "pygments_lexer": "ipython3",
   "version": "3.11.7"
  }
 },
 "nbformat": 4,
 "nbformat_minor": 5
}
