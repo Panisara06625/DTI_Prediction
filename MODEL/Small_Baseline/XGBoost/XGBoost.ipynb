{
 "cells": [
  {
   "cell_type": "code",
   "execution_count": 1,
   "id": "c4f13567",
   "metadata": {},
   "outputs": [],
   "source": [
    "from xgboost import XGBRegressor\n",
    "import pandas as pd\n",
    "from sklearn.model_selection import train_test_split\n",
    "from sklearn.ensemble import RandomForestRegressor\n",
    "from sklearn.metrics import mean_squared_error\n",
    "from sklearn.preprocessing import StandardScaler\n",
    "from sklearn.pipeline import Pipeline\n",
    "import joblib"
   ]
  },
  {
   "cell_type": "code",
   "execution_count": 1,
   "id": "ef7bb440",
   "metadata": {},
   "outputs": [
    {
     "name": "stdout",
     "output_type": "stream",
     "text": [
      "Collecting SHAP\n",
      "  Obtaining dependency information for SHAP from https://files.pythonhosted.org/packages/e5/bb/dc75933de86e6076f58cf68325877be952a97a371c26b252013f1258a5a7/shap-0.47.2-cp311-cp311-win_amd64.whl.metadata\n",
      "  Downloading shap-0.47.2-cp311-cp311-win_amd64.whl.metadata (25 kB)\n",
      "Requirement already satisfied: numpy in c:\\users\\nongnam\\documents\\ai_builder\\.venv\\lib\\site-packages (from SHAP) (1.26.4)\n",
      "Requirement already satisfied: scipy in c:\\users\\nongnam\\documents\\ai_builder\\.venv\\lib\\site-packages (from SHAP) (1.13.1)\n",
      "Requirement already satisfied: scikit-learn in c:\\users\\nongnam\\documents\\ai_builder\\.venv\\lib\\site-packages (from SHAP) (1.6.1)\n",
      "Requirement already satisfied: pandas in c:\\users\\nongnam\\documents\\ai_builder\\.venv\\lib\\site-packages (from SHAP) (2.2.3)\n",
      "Requirement already satisfied: tqdm>=4.27.0 in c:\\users\\nongnam\\documents\\ai_builder\\.venv\\lib\\site-packages (from SHAP) (4.67.1)\n",
      "Requirement already satisfied: packaging>20.9 in c:\\users\\nongnam\\documents\\ai_builder\\.venv\\lib\\site-packages (from SHAP) (24.2)\n",
      "Collecting slicer==0.0.8 (from SHAP)\n",
      "  Obtaining dependency information for slicer==0.0.8 from https://files.pythonhosted.org/packages/63/81/9ef641ff4e12cbcca30e54e72fb0951a2ba195d0cda0ba4100e532d929db/slicer-0.0.8-py3-none-any.whl.metadata\n",
      "  Downloading slicer-0.0.8-py3-none-any.whl.metadata (4.0 kB)\n",
      "Requirement already satisfied: numba>=0.54 in c:\\users\\nongnam\\documents\\ai_builder\\.venv\\lib\\site-packages (from SHAP) (0.61.2)\n",
      "Requirement already satisfied: cloudpickle in c:\\users\\nongnam\\documents\\ai_builder\\.venv\\lib\\site-packages (from SHAP) (3.1.1)\n",
      "Requirement already satisfied: typing-extensions in c:\\users\\nongnam\\documents\\ai_builder\\.venv\\lib\\site-packages (from SHAP) (4.13.2)\n",
      "Requirement already satisfied: llvmlite<0.45,>=0.44.0dev0 in c:\\users\\nongnam\\documents\\ai_builder\\.venv\\lib\\site-packages (from numba>=0.54->SHAP) (0.44.0)\n",
      "Requirement already satisfied: colorama in c:\\users\\nongnam\\documents\\ai_builder\\.venv\\lib\\site-packages (from tqdm>=4.27.0->SHAP) (0.4.6)\n",
      "Requirement already satisfied: python-dateutil>=2.8.2 in c:\\users\\nongnam\\documents\\ai_builder\\.venv\\lib\\site-packages (from pandas->SHAP) (2.9.0.post0)\n",
      "Requirement already satisfied: pytz>=2020.1 in c:\\users\\nongnam\\documents\\ai_builder\\.venv\\lib\\site-packages (from pandas->SHAP) (2025.2)\n",
      "Requirement already satisfied: tzdata>=2022.7 in c:\\users\\nongnam\\documents\\ai_builder\\.venv\\lib\\site-packages (from pandas->SHAP) (2025.2)\n",
      "Requirement already satisfied: joblib>=1.2.0 in c:\\users\\nongnam\\documents\\ai_builder\\.venv\\lib\\site-packages (from scikit-learn->SHAP) (1.4.2)\n",
      "Requirement already satisfied: threadpoolctl>=3.1.0 in c:\\users\\nongnam\\documents\\ai_builder\\.venv\\lib\\site-packages (from scikit-learn->SHAP) (3.6.0)\n",
      "Requirement already satisfied: six>=1.5 in c:\\users\\nongnam\\documents\\ai_builder\\.venv\\lib\\site-packages (from python-dateutil>=2.8.2->pandas->SHAP) (1.17.0)\n",
      "Downloading shap-0.47.2-cp311-cp311-win_amd64.whl (544 kB)\n",
      "   ---------------------------------------- 0.0/544.4 kB ? eta -:--:--\n",
      "   ---- ----------------------------------- 61.4/544.4 kB 1.7 MB/s eta 0:00:01\n",
      "   ---------------------------- ----------- 389.1/544.4 kB 4.9 MB/s eta 0:00:01\n",
      "   ---------------------------------------- 544.4/544.4 kB 5.7 MB/s eta 0:00:00\n",
      "Downloading slicer-0.0.8-py3-none-any.whl (15 kB)\n",
      "Installing collected packages: slicer, SHAP\n",
      "Successfully installed SHAP-0.47.2 slicer-0.0.8\n",
      "Note: you may need to restart the kernel to use updated packages.\n"
     ]
    },
    {
     "name": "stderr",
     "output_type": "stream",
     "text": [
      "\n",
      "[notice] A new release of pip is available: 23.2.1 -> 25.1.1\n",
      "[notice] To update, run: python.exe -m pip install --upgrade pip\n"
     ]
    }
   ],
   "source": [
    "pip install SHAP"
   ]
  },
  {
   "cell_type": "code",
   "execution_count": 2,
   "id": "200c2885",
   "metadata": {},
   "outputs": [],
   "source": [
    "# Load your dataset\n",
    "df = pd.read_csv(\"descriptor.csv\")  # Adjust path"
   ]
  },
  {
   "cell_type": "code",
   "execution_count": 3,
   "id": "072f9a0d",
   "metadata": {},
   "outputs": [
    {
     "data": {
      "text/html": [
       "<div>\n",
       "<style scoped>\n",
       "    .dataframe tbody tr th:only-of-type {\n",
       "        vertical-align: middle;\n",
       "    }\n",
       "\n",
       "    .dataframe tbody tr th {\n",
       "        vertical-align: top;\n",
       "    }\n",
       "\n",
       "    .dataframe thead th {\n",
       "        text-align: right;\n",
       "    }\n",
       "</style>\n",
       "<table border=\"1\" class=\"dataframe\">\n",
       "  <thead>\n",
       "    <tr style=\"text-align: right;\">\n",
       "      <th></th>\n",
       "      <th>SlogP_VSA5</th>\n",
       "      <th>BCUT2D_CHGHI</th>\n",
       "      <th>SMR_VSA5</th>\n",
       "      <th>MinEStateIndex</th>\n",
       "      <th>Chi4v</th>\n",
       "      <th>Prot_MW</th>\n",
       "      <th>Aromaticity</th>\n",
       "      <th>Instability</th>\n",
       "      <th>Hydropathy</th>\n",
       "      <th>IsoelectricPoint</th>\n",
       "      <th>Kd</th>\n",
       "    </tr>\n",
       "  </thead>\n",
       "  <tbody>\n",
       "    <tr>\n",
       "      <th>0</th>\n",
       "      <td>24.165342</td>\n",
       "      <td>2.664828</td>\n",
       "      <td>30.853754</td>\n",
       "      <td>-4.476639</td>\n",
       "      <td>4.106426</td>\n",
       "      <td>112902.2098</td>\n",
       "      <td>0.114804</td>\n",
       "      <td>50.310725</td>\n",
       "      <td>-0.242095</td>\n",
       "      <td>5.480041</td>\n",
       "      <td>8.301030</td>\n",
       "    </tr>\n",
       "    <tr>\n",
       "      <th>1</th>\n",
       "      <td>54.576846</td>\n",
       "      <td>2.371979</td>\n",
       "      <td>68.584544</td>\n",
       "      <td>-4.340588</td>\n",
       "      <td>6.041933</td>\n",
       "      <td>58194.7117</td>\n",
       "      <td>0.071429</td>\n",
       "      <td>52.925502</td>\n",
       "      <td>-0.512741</td>\n",
       "      <td>8.875701</td>\n",
       "      <td>7.795880</td>\n",
       "    </tr>\n",
       "    <tr>\n",
       "      <th>2</th>\n",
       "      <td>11.126903</td>\n",
       "      <td>1.954279</td>\n",
       "      <td>0.000000</td>\n",
       "      <td>0.023478</td>\n",
       "      <td>1.492145</td>\n",
       "      <td>18402.3351</td>\n",
       "      <td>0.074534</td>\n",
       "      <td>33.732298</td>\n",
       "      <td>-0.610559</td>\n",
       "      <td>4.050028</td>\n",
       "      <td>3.614394</td>\n",
       "    </tr>\n",
       "    <tr>\n",
       "      <th>3</th>\n",
       "      <td>17.354804</td>\n",
       "      <td>2.445863</td>\n",
       "      <td>38.008294</td>\n",
       "      <td>-1.272533</td>\n",
       "      <td>3.272341</td>\n",
       "      <td>70897.2343</td>\n",
       "      <td>0.063467</td>\n",
       "      <td>36.887492</td>\n",
       "      <td>-0.456037</td>\n",
       "      <td>5.374718</td>\n",
       "      <td>6.530178</td>\n",
       "    </tr>\n",
       "    <tr>\n",
       "      <th>4</th>\n",
       "      <td>30.123369</td>\n",
       "      <td>2.041809</td>\n",
       "      <td>19.765380</td>\n",
       "      <td>-0.312038</td>\n",
       "      <td>1.071021</td>\n",
       "      <td>56848.2407</td>\n",
       "      <td>0.113590</td>\n",
       "      <td>33.652941</td>\n",
       "      <td>-0.199189</td>\n",
       "      <td>8.276016</td>\n",
       "      <td>5.886057</td>\n",
       "    </tr>\n",
       "  </tbody>\n",
       "</table>\n",
       "</div>"
      ],
      "text/plain": [
       "   SlogP_VSA5  BCUT2D_CHGHI   SMR_VSA5  MinEStateIndex     Chi4v      Prot_MW  \\\n",
       "0   24.165342      2.664828  30.853754       -4.476639  4.106426  112902.2098   \n",
       "1   54.576846      2.371979  68.584544       -4.340588  6.041933   58194.7117   \n",
       "2   11.126903      1.954279   0.000000        0.023478  1.492145   18402.3351   \n",
       "3   17.354804      2.445863  38.008294       -1.272533  3.272341   70897.2343   \n",
       "4   30.123369      2.041809  19.765380       -0.312038  1.071021   56848.2407   \n",
       "\n",
       "   Aromaticity  Instability  Hydropathy  IsoelectricPoint        Kd  \n",
       "0     0.114804    50.310725   -0.242095          5.480041  8.301030  \n",
       "1     0.071429    52.925502   -0.512741          8.875701  7.795880  \n",
       "2     0.074534    33.732298   -0.610559          4.050028  3.614394  \n",
       "3     0.063467    36.887492   -0.456037          5.374718  6.530178  \n",
       "4     0.113590    33.652941   -0.199189          8.276016  5.886057  "
      ]
     },
     "execution_count": 3,
     "metadata": {},
     "output_type": "execute_result"
    }
   ],
   "source": [
    "df.head()"
   ]
  },
  {
   "cell_type": "code",
   "execution_count": 4,
   "id": "3b562280",
   "metadata": {},
   "outputs": [],
   "source": [
    "features = ['SlogP_VSA5', 'BCUT2D_CHGHI', 'SMR_VSA5', 'MinEStateIndex', 'Chi4v','Prot_MW', 'Aromaticity', 'Instability', 'Hydropathy','IsoelectricPoint']\n",
    "target = 'Kd'\n",
    "\n",
    "X = df[features]\n",
    "y = df[target]\n"
   ]
  },
  {
   "cell_type": "code",
   "execution_count": 5,
   "id": "c7941d4c",
   "metadata": {},
   "outputs": [],
   "source": [
    "# Split dataset\n",
    "X_train, X_val, y_train, y_val = train_test_split(X, y, test_size=0.1, random_state=42)"
   ]
  },
  {
   "cell_type": "code",
   "execution_count": 6,
   "id": "567b53b3",
   "metadata": {},
   "outputs": [],
   "source": [
    "xgb_pipeline = Pipeline([\n",
    "    ('scaler', StandardScaler()),\n",
    "    ('xgb', XGBRegressor(n_estimators=100, learning_rate=0.1, max_depth=6, verbosity=0, random_state=42))\n",
    "])"
   ]
  },
  {
   "cell_type": "code",
   "execution_count": 7,
   "id": "9f92f7a4",
   "metadata": {},
   "outputs": [],
   "source": [
    "xgb_pipeline.fit(X_train, y_train)\n",
    "xgb_preds = xgb_pipeline.predict(X_val)"
   ]
  },
  {
   "cell_type": "code",
   "execution_count": 8,
   "id": "984b6d44",
   "metadata": {},
   "outputs": [
    {
     "name": "stdout",
     "output_type": "stream",
     "text": [
      "Baseline XGBoost MSE: 1.4729\n"
     ]
    }
   ],
   "source": [
    "xgb_mse = mean_squared_error(y_val, xgb_preds)\n",
    "print(f\"Baseline XGBoost MSE: {xgb_mse:.4f}\")"
   ]
  },
  {
   "cell_type": "code",
   "execution_count": 9,
   "id": "db4c8f62",
   "metadata": {},
   "outputs": [
    {
     "data": {
      "text/plain": [
       "['baseline_xgb_model.pkl']"
      ]
     },
     "execution_count": 9,
     "metadata": {},
     "output_type": "execute_result"
    }
   ],
   "source": [
    "joblib.dump(xgb_pipeline, \"baseline_xgb_model.pkl\")"
   ]
  },
  {
   "cell_type": "code",
   "execution_count": 10,
   "id": "ea754fe4",
   "metadata": {},
   "outputs": [
    {
     "name": "stdout",
     "output_type": "stream",
     "text": [
      "Mean Squared Error: 1.4940\n",
      "Mean Absolute Error: 0.9335\n",
      "Root Mean Squared Error: 1.2223\n"
     ]
    }
   ],
   "source": [
    "test_df = pd.read_csv(\"descriptor_test.csv\")\n",
    "x_test = test_df.drop(\"Kd\", axis=1)\n",
    "y_test = test_df['Kd']\n",
    "\n",
    "model = joblib.load(\"baseline_xgb_model.pkl\")\n",
    "y_pred = model.predict(x_test)\n",
    "\n",
    "from sklearn.metrics import mean_squared_error, mean_absolute_error , root_mean_squared_error\n",
    "\n",
    "mse = mean_squared_error(y_test, y_pred)\n",
    "mae = mean_absolute_error(y_test, y_pred)\n",
    "rmse = root_mean_squared_error(y_test, y_pred)\n",
    "\n",
    "print(f\"Mean Squared Error: {mse:.4f}\")\n",
    "print(f\"Mean Absolute Error: {mae:.4f}\")\n",
    "print(f\"Root Mean Squared Error: {rmse:.4f}\")"
   ]
  },
  {
   "cell_type": "code",
   "execution_count": 11,
   "id": "325d00ef",
   "metadata": {},
   "outputs": [
    {
     "name": "stderr",
     "output_type": "stream",
     "text": [
      "C:\\Users\\NongNam\\AppData\\Local\\Temp\\ipykernel_40624\\897430231.py:6: FutureWarning: \n",
      "\n",
      "`shade` is now deprecated in favor of `fill`; setting `fill=True`.\n",
      "This will become an error in seaborn v0.14.0; please update your code.\n",
      "\n",
      "  sns.kdeplot(y_test, label=\"True Kd\", shade=True)\n",
      "C:\\Users\\NongNam\\AppData\\Local\\Temp\\ipykernel_40624\\897430231.py:7: FutureWarning: \n",
      "\n",
      "`shade` is now deprecated in favor of `fill`; setting `fill=True`.\n",
      "This will become an error in seaborn v0.14.0; please update your code.\n",
      "\n",
      "  sns.kdeplot(y_pred, label=\"Predicted Kd\", shade=True)\n"
     ]
    },
    {
     "data": {
      "image/png": "[encoded data removed]",
      "text/plain": [
       "<Figure size 1000x600 with 1 Axes>"
      ]
     },
     "metadata": {},
     "output_type": "display_data"
    }
   ],
   "source": [
    "import matplotlib.pyplot as plt\n",
    "import seaborn as sns\n",
    "\n",
    "# Plot real vs predicted distribution\n",
    "plt.figure(figsize=(10, 6))\n",
    "sns.kdeplot(y_test, label=\"True Kd\", shade=True)\n",
    "sns.kdeplot(y_pred, label=\"Predicted Kd\", shade=True)\n",
    "plt.title(\"Distribution of True vs Predicted Kd\")\n",
    "plt.xlabel(\"Kd\")\n",
    "plt.ylabel(\"Density\")\n",
    "plt.legend()\n",
    "plt.tight_layout()\n",
    "plt.show()"
   ]
  }
 ],
 "metadata": {
  "kernelspec": {
   "display_name": ".venv",
   "language": "python",
   "name": "python3"
  },
  "language_info": {
   "codemirror_mode": {
    "name": "ipython",
    "version": 3
   },
   "file_extension": ".py",
   "mimetype": "text/x-python",
   "name": "python",
   "nbconvert_exporter": "python",
   "pygments_lexer": "ipython3",
   "version": "3.11.7"
  }
 },
 "nbformat": 4,
 "nbformat_minor": 5
}
