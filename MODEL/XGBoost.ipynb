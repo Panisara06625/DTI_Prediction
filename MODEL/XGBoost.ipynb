{
 "cells": [
  {
   "cell_type": "code",
   "execution_count": 1,
   "id": "c4f13567",
   "metadata": {},
   "outputs": [],
   "source": [
    "from xgboost import XGBRegressor\n",
    "import pandas as pd\n",
    "from sklearn.model_selection import train_test_split\n",
    "from sklearn.ensemble import RandomForestRegressor\n",
    "from sklearn.metrics import mean_squared_error\n",
    "from sklearn.preprocessing import StandardScaler\n",
    "from sklearn.pipeline import Pipeline\n",
    "import joblib"
   ]
  },
  {
   "cell_type": "code",
   "execution_count": 2,
   "id": "200c2885",
   "metadata": {},
   "outputs": [],
   "source": [
    "# Load your dataset\n",
    "df = pd.read_csv(\"descriptor_based_dataset.csv\")  # Adjust path"
   ]
  },
  {
   "cell_type": "code",
   "execution_count": 3,
   "id": "072f9a0d",
   "metadata": {},
   "outputs": [
    {
     "data": {
      "text/html": [
       "<div>\n",
       "<style scoped>\n",
       "    .dataframe tbody tr th:only-of-type {\n",
       "        vertical-align: middle;\n",
       "    }\n",
       "\n",
       "    .dataframe tbody tr th {\n",
       "        vertical-align: top;\n",
       "    }\n",
       "\n",
       "    .dataframe thead th {\n",
       "        text-align: right;\n",
       "    }\n",
       "</style>\n",
       "<table border=\"1\" class=\"dataframe\">\n",
       "  <thead>\n",
       "    <tr style=\"text-align: right;\">\n",
       "      <th></th>\n",
       "      <th>MolWt</th>\n",
       "      <th>LogP</th>\n",
       "      <th>RotatableBonds</th>\n",
       "      <th>HDonors</th>\n",
       "      <th>HAcceptors</th>\n",
       "      <th>Prot_MW</th>\n",
       "      <th>Aromaticity</th>\n",
       "      <th>Instability</th>\n",
       "      <th>Hydropathy</th>\n",
       "      <th>Kd</th>\n",
       "    </tr>\n",
       "  </thead>\n",
       "  <tbody>\n",
       "    <tr>\n",
       "      <th>0</th>\n",
       "      <td>320.142</td>\n",
       "      <td>3.0665</td>\n",
       "      <td>3</td>\n",
       "      <td>0</td>\n",
       "      <td>4</td>\n",
       "      <td>86942.3145</td>\n",
       "      <td>0.064935</td>\n",
       "      <td>40.691442</td>\n",
       "      <td>-0.583896</td>\n",
       "      <td>6.032920</td>\n",
       "    </tr>\n",
       "    <tr>\n",
       "      <th>1</th>\n",
       "      <td>235.970</td>\n",
       "      <td>1.3260</td>\n",
       "      <td>1</td>\n",
       "      <td>0</td>\n",
       "      <td>0</td>\n",
       "      <td>44714.4131</td>\n",
       "      <td>0.118863</td>\n",
       "      <td>38.344496</td>\n",
       "      <td>-0.396641</td>\n",
       "      <td>4.958607</td>\n",
       "    </tr>\n",
       "    <tr>\n",
       "      <th>2</th>\n",
       "      <td>480.410</td>\n",
       "      <td>3.2920</td>\n",
       "      <td>2</td>\n",
       "      <td>2</td>\n",
       "      <td>4</td>\n",
       "      <td>41199.1000</td>\n",
       "      <td>0.119241</td>\n",
       "      <td>40.827940</td>\n",
       "      <td>0.454743</td>\n",
       "      <td>5.100015</td>\n",
       "    </tr>\n",
       "    <tr>\n",
       "      <th>3</th>\n",
       "      <td>480.410</td>\n",
       "      <td>3.2920</td>\n",
       "      <td>2</td>\n",
       "      <td>2</td>\n",
       "      <td>4</td>\n",
       "      <td>42745.8626</td>\n",
       "      <td>0.097187</td>\n",
       "      <td>49.907698</td>\n",
       "      <td>0.501023</td>\n",
       "      <td>6.769551</td>\n",
       "    </tr>\n",
       "    <tr>\n",
       "      <th>4</th>\n",
       "      <td>433.723</td>\n",
       "      <td>4.6129</td>\n",
       "      <td>0</td>\n",
       "      <td>1</td>\n",
       "      <td>1</td>\n",
       "      <td>25918.2574</td>\n",
       "      <td>0.116883</td>\n",
       "      <td>36.706104</td>\n",
       "      <td>-0.198268</td>\n",
       "      <td>7.742321</td>\n",
       "    </tr>\n",
       "  </tbody>\n",
       "</table>\n",
       "</div>"
      ],
      "text/plain": [
       "     MolWt    LogP  RotatableBonds  HDonors  HAcceptors     Prot_MW  \\\n",
       "0  320.142  3.0665               3        0           4  86942.3145   \n",
       "1  235.970  1.3260               1        0           0  44714.4131   \n",
       "2  480.410  3.2920               2        2           4  41199.1000   \n",
       "3  480.410  3.2920               2        2           4  42745.8626   \n",
       "4  433.723  4.6129               0        1           1  25918.2574   \n",
       "\n",
       "   Aromaticity  Instability  Hydropathy        Kd  \n",
       "0     0.064935    40.691442   -0.583896  6.032920  \n",
       "1     0.118863    38.344496   -0.396641  4.958607  \n",
       "2     0.119241    40.827940    0.454743  5.100015  \n",
       "3     0.097187    49.907698    0.501023  6.769551  \n",
       "4     0.116883    36.706104   -0.198268  7.742321  "
      ]
     },
     "execution_count": 3,
     "metadata": {},
     "output_type": "execute_result"
    }
   ],
   "source": [
    "df.head()"
   ]
  },
  {
   "cell_type": "code",
   "execution_count": 3,
   "id": "3b562280",
   "metadata": {},
   "outputs": [],
   "source": [
    "# Feature and target selection\n",
    "features = ['MolWt', 'LogP', 'RotatableBonds', 'HDonors', 'HAcceptors',\n",
    "            'Prot_MW', 'Aromaticity', 'Instability', 'Hydropathy']\n",
    "target = 'Kd'\n",
    "\n",
    "X = df[features]\n",
    "y = df[target]"
   ]
  },
  {
   "cell_type": "code",
   "execution_count": 4,
   "id": "c7941d4c",
   "metadata": {},
   "outputs": [],
   "source": [
    "# Split dataset\n",
    "X_train, X_val, y_train, y_val = train_test_split(X, y, test_size=0.1, random_state=42)"
   ]
  },
  {
   "cell_type": "code",
   "execution_count": 5,
   "id": "567b53b3",
   "metadata": {},
   "outputs": [],
   "source": [
    "xgb_pipeline = Pipeline([\n",
    "    ('scaler', StandardScaler()),\n",
    "    ('xgb', XGBRegressor(n_estimators=100, learning_rate=0.1, max_depth=6, verbosity=0, random_state=42))\n",
    "])"
   ]
  },
  {
   "cell_type": "code",
   "execution_count": 6,
   "id": "9f92f7a4",
   "metadata": {},
   "outputs": [],
   "source": [
    "xgb_pipeline.fit(X_train, y_train)\n",
    "xgb_preds = xgb_pipeline.predict(X_val)"
   ]
  },
  {
   "cell_type": "code",
   "execution_count": 7,
   "id": "984b6d44",
   "metadata": {},
   "outputs": [
    {
     "name": "stdout",
     "output_type": "stream",
     "text": [
      "Baseline XGBoost MSE: 1.3551\n"
     ]
    }
   ],
   "source": [
    "xgb_mse = mean_squared_error(y_val, xgb_preds)\n",
    "print(f\"Baseline XGBoost MSE: {xgb_mse:.4f}\")"
   ]
  },
  {
   "cell_type": "code",
   "execution_count": 8,
   "id": "db4c8f62",
   "metadata": {},
   "outputs": [
    {
     "data": {
      "text/plain": [
       "['baseline_xgb_model.pkl']"
      ]
     },
     "execution_count": 8,
     "metadata": {},
     "output_type": "execute_result"
    }
   ],
   "source": [
    "joblib.dump(xgb_pipeline, \"baseline_xgb_model.pkl\")"
   ]
  }
 ],
 "metadata": {
  "kernelspec": {
   "display_name": ".venv",
   "language": "python",
   "name": "python3"
  },
  "language_info": {
   "codemirror_mode": {
    "name": "ipython",
    "version": 3
   },
   "file_extension": ".py",
   "mimetype": "text/x-python",
   "name": "python",
   "nbconvert_exporter": "python",
   "pygments_lexer": "ipython3",
   "version": "3.11.7"
  }
 },
 "nbformat": 4,
 "nbformat_minor": 5
}
